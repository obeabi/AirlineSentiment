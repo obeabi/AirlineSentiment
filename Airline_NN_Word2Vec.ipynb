{
  "nbformat": 4,
  "nbformat_minor": 0,
  "metadata": {
    "colab": {
      "name": "Airline_NN_Word2Vec.ipynb",
      "provenance": [],
      "toc_visible": true,
      "authorship_tag": "ABX9TyNaqIvUfUXbcAwTOJXedbHR",
      "include_colab_link": true
    },
    "kernelspec": {
      "name": "python3",
      "display_name": "Python 3"
    }
  },
  "cells": [
    {
      "cell_type": "markdown",
      "metadata": {
        "id": "view-in-github",
        "colab_type": "text"
      },
      "source": [
        "<a href=\"https://colab.research.google.com/github/obeabi/AirlineSentiment/blob/main/Airline_NN_Word2Vec.ipynb\" target=\"_parent\"><img src=\"https://colab.research.google.com/assets/colab-badge.svg\" alt=\"Open In Colab\"/></a>"
      ]
    },
    {
      "cell_type": "markdown",
      "metadata": {
        "id": "VJMaZXt8yoE-"
      },
      "source": [
        "# Airline Sentiment Dataset\r\n",
        "## Written by Abiola Obembe\r\n",
        "### Date: 2020-12-24\r\n",
        "\r\n",
        "### Goal: Train a classifiier to predict customer sentiment from customer review text (using NN and pretrained word embeddings i.e. word2vec and glove)\r\n"
      ]
    },
    {
      "cell_type": "markdown",
      "metadata": {
        "id": "YqeNHhjp25v_"
      },
      "source": [
        "A sentiment analysis job about the problems of each major U.S. airline. Twitter data was scraped from February of 2015 and contributors were asked to first classify positive, negative, and neutral tweets, followed by categorizing negative reasons (such as \"late flight\" or \"rude service\")."
      ]
    },
    {
      "cell_type": "markdown",
      "metadata": {
        "id": "LiwXn9d50qi6"
      },
      "source": [
        "## Step 1: Data Cleaning and Preprocessing"
      ]
    },
    {
      "cell_type": "code",
      "metadata": {
        "colab": {
          "base_uri": "https://localhost:8080/"
        },
        "id": "QCi0HP5szMY8",
        "outputId": "3c56c2c0-d393-4118-db64-4cb92653867b"
      },
      "source": [
        "# install libraries\r\n",
        "import pandas as pd\r\n",
        "import numpy as np\r\n",
        "import matplotlib.pyplot as plt\r\n",
        "\r\n",
        "%matplotlib inline\r\n",
        "plt.rcParams['figure.figsize'] = (18.0, 12.0) # set default size of plots\r\n",
        "plt.rcParams['image.interpolation'] = 'nearest'\r\n",
        "plt.rcParams['image.cmap'] = 'gray'\r\n",
        "\r\n",
        "\r\n",
        "print(\"installation complete!\")\r\n"
      ],
      "execution_count": 201,
      "outputs": [
        {
          "output_type": "stream",
          "text": [
            "installation complete!\n"
          ],
          "name": "stdout"
        }
      ]
    },
    {
      "cell_type": "code",
      "metadata": {
        "colab": {
          "base_uri": "https://localhost:8080/",
          "height": 434
        },
        "id": "Ru8XNKar0pGE",
        "outputId": "343ce951-0bc5-4e0d-91f1-56b834f1afbb"
      },
      "source": [
        "# Import dataset\r\n",
        "dataset = pd.read_csv('Tweets.csv', encoding= 'latin1', engine='python', quoting = 1)\r\n",
        "\r\n",
        "dataset.head()"
      ],
      "execution_count": 202,
      "outputs": [
        {
          "output_type": "execute_result",
          "data": {
            "text/html": [
              "<div>\n",
              "<style scoped>\n",
              "    .dataframe tbody tr th:only-of-type {\n",
              "        vertical-align: middle;\n",
              "    }\n",
              "\n",
              "    .dataframe tbody tr th {\n",
              "        vertical-align: top;\n",
              "    }\n",
              "\n",
              "    .dataframe thead th {\n",
              "        text-align: right;\n",
              "    }\n",
              "</style>\n",
              "<table border=\"1\" class=\"dataframe\">\n",
              "  <thead>\n",
              "    <tr style=\"text-align: right;\">\n",
              "      <th></th>\n",
              "      <th>tweet_id</th>\n",
              "      <th>airline_sentiment</th>\n",
              "      <th>airline_sentiment_confidence</th>\n",
              "      <th>negativereason</th>\n",
              "      <th>negativereason_confidence</th>\n",
              "      <th>airline</th>\n",
              "      <th>airline_sentiment_gold</th>\n",
              "      <th>name</th>\n",
              "      <th>negativereason_gold</th>\n",
              "      <th>retweet_count</th>\n",
              "      <th>text</th>\n",
              "      <th>tweet_coord</th>\n",
              "      <th>tweet_created</th>\n",
              "      <th>tweet_location</th>\n",
              "      <th>user_timezone</th>\n",
              "    </tr>\n",
              "  </thead>\n",
              "  <tbody>\n",
              "    <tr>\n",
              "      <th>0</th>\n",
              "      <td>570306133677760513</td>\n",
              "      <td>neutral</td>\n",
              "      <td>1.0000</td>\n",
              "      <td>NaN</td>\n",
              "      <td>NaN</td>\n",
              "      <td>Virgin America</td>\n",
              "      <td>NaN</td>\n",
              "      <td>cairdin</td>\n",
              "      <td>NaN</td>\n",
              "      <td>0</td>\n",
              "      <td>@VirginAmerica What @dhepburn said.</td>\n",
              "      <td>NaN</td>\n",
              "      <td>2015-02-24 11:35:52 -0800</td>\n",
              "      <td>NaN</td>\n",
              "      <td>Eastern Time (US &amp; Canada)</td>\n",
              "    </tr>\n",
              "    <tr>\n",
              "      <th>1</th>\n",
              "      <td>570301130888122368</td>\n",
              "      <td>positive</td>\n",
              "      <td>0.3486</td>\n",
              "      <td>NaN</td>\n",
              "      <td>0.0000</td>\n",
              "      <td>Virgin America</td>\n",
              "      <td>NaN</td>\n",
              "      <td>jnardino</td>\n",
              "      <td>NaN</td>\n",
              "      <td>0</td>\n",
              "      <td>@VirginAmerica plus you've added commercials t...</td>\n",
              "      <td>NaN</td>\n",
              "      <td>2015-02-24 11:15:59 -0800</td>\n",
              "      <td>NaN</td>\n",
              "      <td>Pacific Time (US &amp; Canada)</td>\n",
              "    </tr>\n",
              "    <tr>\n",
              "      <th>2</th>\n",
              "      <td>570301083672813571</td>\n",
              "      <td>neutral</td>\n",
              "      <td>0.6837</td>\n",
              "      <td>NaN</td>\n",
              "      <td>NaN</td>\n",
              "      <td>Virgin America</td>\n",
              "      <td>NaN</td>\n",
              "      <td>yvonnalynn</td>\n",
              "      <td>NaN</td>\n",
              "      <td>0</td>\n",
              "      <td>@VirginAmerica I didn't today... Must mean I n...</td>\n",
              "      <td>NaN</td>\n",
              "      <td>2015-02-24 11:15:48 -0800</td>\n",
              "      <td>Lets Play</td>\n",
              "      <td>Central Time (US &amp; Canada)</td>\n",
              "    </tr>\n",
              "    <tr>\n",
              "      <th>3</th>\n",
              "      <td>570301031407624196</td>\n",
              "      <td>negative</td>\n",
              "      <td>1.0000</td>\n",
              "      <td>Bad Flight</td>\n",
              "      <td>0.7033</td>\n",
              "      <td>Virgin America</td>\n",
              "      <td>NaN</td>\n",
              "      <td>jnardino</td>\n",
              "      <td>NaN</td>\n",
              "      <td>0</td>\n",
              "      <td>@VirginAmerica it's really aggressive to blast...</td>\n",
              "      <td>NaN</td>\n",
              "      <td>2015-02-24 11:15:36 -0800</td>\n",
              "      <td>NaN</td>\n",
              "      <td>Pacific Time (US &amp; Canada)</td>\n",
              "    </tr>\n",
              "    <tr>\n",
              "      <th>4</th>\n",
              "      <td>570300817074462722</td>\n",
              "      <td>negative</td>\n",
              "      <td>1.0000</td>\n",
              "      <td>Can't Tell</td>\n",
              "      <td>1.0000</td>\n",
              "      <td>Virgin America</td>\n",
              "      <td>NaN</td>\n",
              "      <td>jnardino</td>\n",
              "      <td>NaN</td>\n",
              "      <td>0</td>\n",
              "      <td>@VirginAmerica and it's a really big bad thing...</td>\n",
              "      <td>NaN</td>\n",
              "      <td>2015-02-24 11:14:45 -0800</td>\n",
              "      <td>NaN</td>\n",
              "      <td>Pacific Time (US &amp; Canada)</td>\n",
              "    </tr>\n",
              "  </tbody>\n",
              "</table>\n",
              "</div>"
            ],
            "text/plain": [
              "             tweet_id  ...               user_timezone\n",
              "0  570306133677760513  ...  Eastern Time (US & Canada)\n",
              "1  570301130888122368  ...  Pacific Time (US & Canada)\n",
              "2  570301083672813571  ...  Central Time (US & Canada)\n",
              "3  570301031407624196  ...  Pacific Time (US & Canada)\n",
              "4  570300817074462722  ...  Pacific Time (US & Canada)\n",
              "\n",
              "[5 rows x 15 columns]"
            ]
          },
          "metadata": {
            "tags": []
          },
          "execution_count": 202
        }
      ]
    },
    {
      "cell_type": "code",
      "metadata": {
        "colab": {
          "base_uri": "https://localhost:8080/",
          "height": 343
        },
        "id": "ZXcBWVgA2_co",
        "outputId": "890abc48-5415-4fa0-e88c-1f86478f55c6"
      },
      "source": [
        "# Drop columns not required\r\n",
        "dataset.drop(columns = ['tweet_id', 'airline_sentiment_confidence', 'negativereason', 'negativereason_confidence',\r\n",
        "                        'airline', 'airline_sentiment_gold','name','negativereason_gold','retweet_count','tweet_coord',\r\n",
        "                        'tweet_created','tweet_location','user_timezone'], axis = 1, inplace = True)\r\n",
        "dataset.head(10)"
      ],
      "execution_count": 203,
      "outputs": [
        {
          "output_type": "execute_result",
          "data": {
            "text/html": [
              "<div>\n",
              "<style scoped>\n",
              "    .dataframe tbody tr th:only-of-type {\n",
              "        vertical-align: middle;\n",
              "    }\n",
              "\n",
              "    .dataframe tbody tr th {\n",
              "        vertical-align: top;\n",
              "    }\n",
              "\n",
              "    .dataframe thead th {\n",
              "        text-align: right;\n",
              "    }\n",
              "</style>\n",
              "<table border=\"1\" class=\"dataframe\">\n",
              "  <thead>\n",
              "    <tr style=\"text-align: right;\">\n",
              "      <th></th>\n",
              "      <th>airline_sentiment</th>\n",
              "      <th>text</th>\n",
              "    </tr>\n",
              "  </thead>\n",
              "  <tbody>\n",
              "    <tr>\n",
              "      <th>0</th>\n",
              "      <td>neutral</td>\n",
              "      <td>@VirginAmerica What @dhepburn said.</td>\n",
              "    </tr>\n",
              "    <tr>\n",
              "      <th>1</th>\n",
              "      <td>positive</td>\n",
              "      <td>@VirginAmerica plus you've added commercials t...</td>\n",
              "    </tr>\n",
              "    <tr>\n",
              "      <th>2</th>\n",
              "      <td>neutral</td>\n",
              "      <td>@VirginAmerica I didn't today... Must mean I n...</td>\n",
              "    </tr>\n",
              "    <tr>\n",
              "      <th>3</th>\n",
              "      <td>negative</td>\n",
              "      <td>@VirginAmerica it's really aggressive to blast...</td>\n",
              "    </tr>\n",
              "    <tr>\n",
              "      <th>4</th>\n",
              "      <td>negative</td>\n",
              "      <td>@VirginAmerica and it's a really big bad thing...</td>\n",
              "    </tr>\n",
              "    <tr>\n",
              "      <th>5</th>\n",
              "      <td>negative</td>\n",
              "      <td>@VirginAmerica seriously would pay $30 a fligh...</td>\n",
              "    </tr>\n",
              "    <tr>\n",
              "      <th>6</th>\n",
              "      <td>positive</td>\n",
              "      <td>@VirginAmerica yes, nearly every time I fly VX...</td>\n",
              "    </tr>\n",
              "    <tr>\n",
              "      <th>7</th>\n",
              "      <td>neutral</td>\n",
              "      <td>@VirginAmerica Really missed a prime opportuni...</td>\n",
              "    </tr>\n",
              "    <tr>\n",
              "      <th>8</th>\n",
              "      <td>positive</td>\n",
              "      <td>@virginamerica Well, I didn'tâ¦but NOW I DO! :-D</td>\n",
              "    </tr>\n",
              "    <tr>\n",
              "      <th>9</th>\n",
              "      <td>positive</td>\n",
              "      <td>@VirginAmerica it was amazing, and arrived an ...</td>\n",
              "    </tr>\n",
              "  </tbody>\n",
              "</table>\n",
              "</div>"
            ],
            "text/plain": [
              "  airline_sentiment                                               text\n",
              "0           neutral                @VirginAmerica What @dhepburn said.\n",
              "1          positive  @VirginAmerica plus you've added commercials t...\n",
              "2           neutral  @VirginAmerica I didn't today... Must mean I n...\n",
              "3          negative  @VirginAmerica it's really aggressive to blast...\n",
              "4          negative  @VirginAmerica and it's a really big bad thing...\n",
              "5          negative  @VirginAmerica seriously would pay $30 a fligh...\n",
              "6          positive  @VirginAmerica yes, nearly every time I fly VX...\n",
              "7           neutral  @VirginAmerica Really missed a prime opportuni...\n",
              "8          positive  @virginamerica Well, I didn'tâ¦but NOW I DO! :-D\n",
              "9          positive  @VirginAmerica it was amazing, and arrived an ..."
            ]
          },
          "metadata": {
            "tags": []
          },
          "execution_count": 203
        }
      ]
    },
    {
      "cell_type": "code",
      "metadata": {
        "colab": {
          "base_uri": "https://localhost:8080/"
        },
        "id": "ghh1CI-p4MSM",
        "outputId": "e8aa6bb2-3452-4e67-8ddc-eacc4f619770"
      },
      "source": [
        "#  Investigate the number of distinct sentiments\r\n",
        "dataset['airline_sentiment'].value_counts()"
      ],
      "execution_count": 204,
      "outputs": [
        {
          "output_type": "execute_result",
          "data": {
            "text/plain": [
              "negative    9178\n",
              "neutral     3099\n",
              "positive    2363\n",
              "Name: airline_sentiment, dtype: int64"
            ]
          },
          "metadata": {
            "tags": []
          },
          "execution_count": 204
        }
      ]
    },
    {
      "cell_type": "code",
      "metadata": {
        "colab": {
          "base_uri": "https://localhost:8080/",
          "height": 730
        },
        "id": "G9xjlClf4Y8Y",
        "outputId": "f5d8b88e-0ef0-467c-ba36-7de556a94983"
      },
      "source": [
        "# Lets visualize the sentiments\r\n",
        "count_classes = pd.value_counts(dataset['airline_sentiment'], sort = True)\r\n",
        "count_classes.plot(kind = 'bar', rot = 0)\r\n",
        "plt.title(\"Customer Sentiment Distribution\")\r\n",
        "plt.xticks(range(3))\r\n",
        "plt.xlabel(\"Sentiment\")\r\n",
        "plt.ylabel('Frequency')\r\n",
        "plt.show()"
      ],
      "execution_count": 205,
      "outputs": [
        {
          "output_type": "display_data",
          "data": {
            "image/png": "[encoded data removed]",
            "text/plain": [
              "<Figure size 1296x864 with 1 Axes>"
            ]
          },
          "metadata": {
            "tags": [],
            "needs_background": "light"
          }
        }
      ]
    },
    {
      "cell_type": "code",
      "metadata": {
        "colab": {
          "base_uri": "https://localhost:8080/"
        },
        "id": "tjZdgHY45JHr",
        "outputId": "399691ab-744e-4ed0-e9b4-afb75159c7bf"
      },
      "source": [
        "# Let us check for missing values in both columns\r\n",
        "print(dataset.isnull().sum())\r\n",
        "\r\n",
        "missing_values = dataset.isnull().sum().sum()\r\n",
        "print('The total number of missing values in the dataframe is' , str(missing_values))"
      ],
      "execution_count": 206,
      "outputs": [
        {
          "output_type": "stream",
          "text": [
            "airline_sentiment    0\n",
            "text                 0\n",
            "dtype: int64\n",
            "The total number of missing values in the dataframe is 0\n"
          ],
          "name": "stdout"
        }
      ]
    },
    {
      "cell_type": "code",
      "metadata": {
        "colab": {
          "base_uri": "https://localhost:8080/"
        },
        "id": "vRkYlsNM6nzN",
        "outputId": "b953ba50-a561-4129-c5c1-5748d8fb3e9d"
      },
      "source": [
        "## Data Cleaning\r\n",
        "\r\n",
        "import re\r\n",
        "import nltk\r\n",
        "nltk.download('stopwords')\r\n",
        "nltk.download('wordnet')\r\n",
        "from nltk.corpus import stopwords\r\n",
        "from nltk.stem import WordNetLemmatizer\r\n",
        "corpus = []\r\n",
        "\r\n",
        "\r\n",
        "\r\n",
        "\r\n",
        "for i in range(0,dataset.shape[0]):\r\n",
        "  reviews = re.sub(r\"@[A-Za-z0-9]+\", ' ', dataset['text'][i])\r\n",
        "  reviews = re.sub(r'[^a-zA-Z]', ' ',reviews)\r\n",
        "  # Removing additional whitespaces\r\n",
        "  reviews = re.sub(r\" +\", ' ', reviews)\r\n",
        "  reviews = reviews.lower()\r\n",
        "  reviews = reviews.split()\r\n",
        "  wl = WordNetLemmatizer()\r\n",
        "  review = [wl.lemmatize(word) for word in reviews if not word in set(stopwords.words('english'))]\r\n",
        "  review = ' '.join(review) \r\n",
        "  corpus.append(review)\r\n",
        " \r\n",
        "\r\n",
        "\r\n"
      ],
      "execution_count": 207,
      "outputs": [
        {
          "output_type": "stream",
          "text": [
            "[nltk_data] Downloading package stopwords to /root/nltk_data...\n",
            "[nltk_data]   Package stopwords is already up-to-date!\n",
            "[nltk_data] Downloading package wordnet to /root/nltk_data...\n",
            "[nltk_data]   Package wordnet is already up-to-date!\n"
          ],
          "name": "stdout"
        }
      ]
    },
    {
      "cell_type": "code",
      "metadata": {
        "colab": {
          "base_uri": "https://localhost:8080/"
        },
        "id": "rbBAOaXfB80t",
        "outputId": "6bfb43e2-624c-4337-c3ce-fb27c06b5d0c"
      },
      "source": [
        "# Install tensorflow\r\n",
        "try:\r\n",
        "    %tensorflow_version 2.x\r\n",
        "except Exception:\r\n",
        "    pass\r\n",
        "import tensorflow as tf\r\n",
        "\r\n",
        "from tensorflow.keras import layers\r\n",
        "import tensorflow_datasets as tfds\r\n",
        "print(\"Tensorflow version  :\", tf.__version__)"
      ],
      "execution_count": 208,
      "outputs": [
        {
          "output_type": "stream",
          "text": [
            "Tensorflow version  : 2.4.0\n"
          ],
          "name": "stdout"
        }
      ]
    },
    {
      "cell_type": "markdown",
      "metadata": {
        "id": "LP0OSKBoCvpd"
      },
      "source": [
        "## STEP 2: Tokenization and Padding"
      ]
    },
    {
      "cell_type": "code",
      "metadata": {
        "colab": {
          "base_uri": "https://localhost:8080/"
        },
        "id": "ADJtsjBvRrf2",
        "outputId": "ad02509c-d556-4691-e61c-bb003b8392c5"
      },
      "source": [
        "# import libraries\r\n",
        "from keras.preprocessing.text import Tokenizer\r\n",
        "from keras.preprocessing.sequence import pad_sequences\r\n",
        "\r\n",
        "#\r\n",
        "NB_words = 2**10\r\n",
        "MAX_SEQ_LEN = 100   \r\n",
        "tokenizer = Tokenizer(nb_words = NB_words)\r\n",
        "tokenizer.fit_on_texts(corpus)\r\n",
        "sequences = tokenizer.texts_to_sequences(corpus)\r\n",
        "word_index = tokenizer.word_index \r\n",
        "\r\n",
        "print(\"Found unique tokens\", len(word_index))\r\n",
        "\r\n",
        "data = pad_sequences(sequences, value=0, padding=\"post\", maxlen=MAX_SEQ_LEN)\r\n"
      ],
      "execution_count": 209,
      "outputs": [
        {
          "output_type": "stream",
          "text": [
            "/usr/local/lib/python3.6/dist-packages/keras_preprocessing/text.py:180: UserWarning: The `nb_words` argument in `Tokenizer` has been renamed `num_words`.\n",
            "  warnings.warn('The `nb_words` argument in `Tokenizer` '\n"
          ],
          "name": "stderr"
        },
        {
          "output_type": "stream",
          "text": [
            "Found unique tokens 11850\n"
          ],
          "name": "stdout"
        }
      ]
    },
    {
      "cell_type": "code",
      "metadata": {
        "colab": {
          "base_uri": "https://localhost:8080/"
        },
        "id": "Q7qappxRV5AW",
        "outputId": "14e58eca-246a-4b89-8f09-97d1e367247b"
      },
      "source": [
        "# Let us encode the labels into integers \r\n",
        "from sklearn import preprocessing \r\n",
        "  \r\n",
        "# label_encoder \r\n",
        "label_encoder = preprocessing.LabelEncoder() \r\n",
        "  \r\n",
        "# Encode labels in column 'species'. \r\n",
        "dataset['airline_sentiment']= label_encoder.fit_transform(dataset['airline_sentiment']) \r\n",
        "  \r\n",
        "dataset['airline_sentiment'].unique() "
      ],
      "execution_count": 210,
      "outputs": [
        {
          "output_type": "execute_result",
          "data": {
            "text/plain": [
              "array([1, 2, 0])"
            ]
          },
          "metadata": {
            "tags": []
          },
          "execution_count": 210
        }
      ]
    },
    {
      "cell_type": "code",
      "metadata": {
        "colab": {
          "base_uri": "https://localhost:8080/"
        },
        "id": "RbpYHINeUyKD",
        "outputId": "d842a22f-cd67-48f4-ec9f-4d8777864e97"
      },
      "source": [
        "# Split into train and validation/test set\r\n",
        "y = dataset['airline_sentiment'].values\r\n",
        "\r\n",
        "from keras.utils import  to_categorical\r\n",
        "y = to_categorical(np.asarray(y))\r\n",
        "\r\n",
        "from sklearn.model_selection import train_test_split\r\n",
        "\r\n",
        "X_train, X_test, y_train, y_test = train_test_split( data, y, test_size=0.2, random_state=42)\r\n",
        "\r\n",
        "[nsample,nshape] = X_train.shape\r\n",
        "print(nsample)\r\n",
        "print(nshape)"
      ],
      "execution_count": 211,
      "outputs": [
        {
          "output_type": "stream",
          "text": [
            "11712\n",
            "100\n"
          ],
          "name": "stdout"
        }
      ]
    },
    {
      "cell_type": "markdown",
      "metadata": {
        "id": "htvMcdQAlUq0"
      },
      "source": [
        "### Obtain Word2Vec Embedding Matrix"
      ]
    },
    {
      "cell_type": "code",
      "metadata": {
        "id": "ZO0GeRIykMsQ"
      },
      "source": [
        "# Now we need to get the pre-trained vectors for the word2vec embeddings\r\n",
        "import gensim\r\n",
        "import gensim.downloader as api\r\n",
        "\r\n",
        "embeddings_ap = api.load(\"glove-wiki-gigaword-100\") \r\n"
      ],
      "execution_count": 212,
      "outputs": []
    },
    {
      "cell_type": "code",
      "metadata": {
        "colab": {
          "base_uri": "https://localhost:8080/"
        },
        "id": "fYfIQ7i0p4yH",
        "outputId": "8e1163e5-f687-48da-d222-5dac608ab7d5"
      },
      "source": [
        "# After this we create an embedding matrix for the tokenized text for the reviews\r\n",
        "vocab = tokenizer.texts_to_sequences(corpus)\r\n",
        "\r\n",
        "# added one due to reserved index\r\n",
        "vocab_size = len(tokenizer.word_index) + 1\r\n",
        "print(vocab_size)\r\n",
        "\r\n",
        "# create a weight matrix for words in the training document\r\n",
        "embedding_matrix = np.zeros((vocab_size, 100))\r\n",
        "\r\n",
        "for word, i in tokenizer.word_index.items():\r\n",
        "  try:\r\n",
        "    embedding_vector = embeddings_ap[word]\r\n",
        "    if embedding_vector is not None:\r\n",
        "        embedding_matrix[i] = embedding_vector\r\n",
        "  except:\r\n",
        "    pass"
      ],
      "execution_count": 213,
      "outputs": [
        {
          "output_type": "stream",
          "text": [
            "11851\n"
          ],
          "name": "stdout"
        }
      ]
    },
    {
      "cell_type": "code",
      "metadata": {
        "colab": {
          "base_uri": "https://localhost:8080/"
        },
        "id": "Evmq4e1LqANh",
        "outputId": "75cde98a-aec5-4d8a-f6fc-e41d20d940d0"
      },
      "source": [
        "# print embedding matrix\r\n",
        "embedding_matrix"
      ],
      "execution_count": 214,
      "outputs": [
        {
          "output_type": "execute_result",
          "data": {
            "text/plain": [
              "array([[ 0.        ,  0.        ,  0.        , ...,  0.        ,\n",
              "         0.        ,  0.        ],\n",
              "       [ 0.1219    , -0.65645999,  0.50854999, ..., -0.23317   ,\n",
              "        -0.013865  , -0.78455001],\n",
              "       [ 0.14432999,  0.43950999,  0.58323997, ...,  0.50133997,\n",
              "         0.49535999,  0.49919999],\n",
              "       ...,\n",
              "       [ 0.        ,  0.        ,  0.        , ...,  0.        ,\n",
              "         0.        ,  0.        ],\n",
              "       [-0.24322   , -0.80457997,  0.098619  , ..., -0.42359   ,\n",
              "         0.35133001,  0.19468001],\n",
              "       [-0.29222   , -0.53171003,  0.15395001, ..., -0.28490001,\n",
              "         0.99054003,  0.1701    ]])"
            ]
          },
          "metadata": {
            "tags": []
          },
          "execution_count": 214
        }
      ]
    },
    {
      "cell_type": "markdown",
      "metadata": {
        "id": "jGicKLKDbENK"
      },
      "source": [
        "## Step 3: Build and Train Model"
      ]
    },
    {
      "cell_type": "code",
      "metadata": {
        "colab": {
          "base_uri": "https://localhost:8080/"
        },
        "id": "iYoJAe5sbfHr",
        "outputId": "e520662a-b91d-496f-9f67-5902024bf98d"
      },
      "source": [
        "# Import keras libraries\r\n",
        "from keras.models import Sequential, Model\r\n",
        "from keras.layers import Dense,Dropout,Activation\r\n",
        "from keras.layers import Input, Flatten, Embedding, concatenate\r\n",
        "from keras.layers.recurrent import LSTM\r\n",
        "from keras.layers.wrappers import Bidirectional\r\n",
        "from keras.utils import to_categorical\r\n",
        "\r\n",
        "from IPython.display import SVG\r\n",
        "from keras.utils.vis_utils import model_to_dot\r\n",
        "\r\n",
        "print(\"Installation sucessfull!\")"
      ],
      "execution_count": 215,
      "outputs": [
        {
          "output_type": "stream",
          "text": [
            "Installation sucessfull!\n"
          ],
          "name": "stdout"
        }
      ]
    },
    {
      "cell_type": "code",
      "metadata": {
        "colab": {
          "base_uri": "https://localhost:8080/",
          "height": 1000
        },
        "id": "-c9XT69AbIW1",
        "outputId": "82311413-9681-46cd-9da1-3c5d7619a0e8"
      },
      "source": [
        "# Build Seq2Seq architecture\r\n",
        "\r\n",
        "model1 = Sequential()\r\n",
        "\r\n",
        "# Add Embedding Layer and number of output is 100 as we embedded with a 100D word2vec model\r\n",
        "Embed_layer = Embedding(input_dim= vocab_size, output_dim= 100, weights = [embedding_matrix], input_length= (MAX_SEQ_LEN,), trainable = True )\r\n",
        "\r\n",
        "# define inputs\r\n",
        "review_input = Input(shape=(MAX_SEQ_LEN,), dtype='int32', name = 'review_input')\r\n",
        "review_embedding = Embed_layer(review_input)\r\n",
        "Flatten_layer = Flatten()\r\n",
        "Flatten_review = Flatten_layer(review_embedding)\r\n",
        "output_size = 3\r\n",
        "\r\n",
        "dense1 = Dense(100, activation='relu')(Flatten_review)\r\n",
        "dense1 = Dropout(0.25)(dense1)\r\n",
        "dense2 = Dense(64, activation='relu')(dense1)\r\n",
        "dense2 = Dropout(0.4)(dense2)\r\n",
        "dense3 = Dense(32, activation='relu')(dense2)\r\n",
        "dense3 = Dropout(0.5)(dense3)\r\n",
        "predict = Dense(output_size, activation='softmax')(dense3)\r\n",
        "\r\n",
        "\r\n",
        "model1 = Model(inputs = [review_input], outputs= [predict])\r\n",
        "model1.compile(loss=\"categorical_crossentropy\",\r\n",
        "                 optimizer=\"adam\",\r\n",
        "                 metrics=[\"categorical_accuracy\"])\r\n",
        "\r\n",
        "print(model1.summary())\r\n",
        "\r\n",
        "SVG(model_to_dot(model1).create(prog= 'dot', format ='svg'))\r\n",
        "\r\n"
      ],
      "execution_count": 227,
      "outputs": [
        {
          "output_type": "stream",
          "text": [
            "Model: \"model_14\"\n",
            "_________________________________________________________________\n",
            "Layer (type)                 Output Shape              Param #   \n",
            "=================================================================\n",
            "review_input (InputLayer)    [(None, 100)]             0         \n",
            "_________________________________________________________________\n",
            "embedding_23 (Embedding)     (None, 100, 100)          1185100   \n",
            "_________________________________________________________________\n",
            "flatten_18 (Flatten)         (None, 10000)             0         \n",
            "_________________________________________________________________\n",
            "dense_62 (Dense)             (None, 100)               1000100   \n",
            "_________________________________________________________________\n",
            "dropout_12 (Dropout)         (None, 100)               0         \n",
            "_________________________________________________________________\n",
            "dense_63 (Dense)             (None, 64)                6464      \n",
            "_________________________________________________________________\n",
            "dropout_13 (Dropout)         (None, 64)                0         \n",
            "_________________________________________________________________\n",
            "dense_64 (Dense)             (None, 32)                2080      \n",
            "_________________________________________________________________\n",
            "dropout_14 (Dropout)         (None, 32)                0         \n",
            "_________________________________________________________________\n",
            "dense_65 (Dense)             (None, 3)                 99        \n",
            "=================================================================\n",
            "Total params: 2,193,843\n",
            "Trainable params: 2,193,843\n",
            "Non-trainable params: 0\n",
            "_________________________________________________________________\n",
            "None\n"
          ],
          "name": "stdout"
        },
        {
          "output_type": "execute_result",
          "data": {
            "text/plain": [
              "<IPython.core.display.SVG object>"
            ],
            "image/svg+xml": "<svg height=\"936pt\" viewBox=\"0.00 0.00 187.00 702.00\" width=\"249pt\" xmlns=\"http://www.w3.org/2000/svg\" xmlns:xlink=\"http://www.w3.org/1999/xlink\">\n<g class=\"graph\" id=\"graph0\" transform=\"scale(1.3333 1.3333) rotate(0) translate(4 698)\">\n<title>G</title>\n<polygon fill=\"#ffffff\" points=\"-4,4 -4,-698 183,-698 183,4 -4,4\" stroke=\"transparent\"/>\n<!-- 140231658777344 -->\n<g class=\"node\" id=\"node1\">\n<title>140231658777344</title>\n<polygon fill=\"none\" points=\"7.5,-657.5 7.5,-693.5 171.5,-693.5 171.5,-657.5 7.5,-657.5\" stroke=\"#000000\"/>\n<text fill=\"#000000\" font-family=\"Times,serif\" font-size=\"14.00\" text-anchor=\"middle\" x=\"89.5\" y=\"-671.8\">review_input: InputLayer</text>\n</g>\n<!-- 140231658775832 -->\n<g class=\"node\" id=\"node2\">\n<title>140231658775832</title>\n<polygon fill=\"none\" points=\"0,-584.5 0,-620.5 179,-620.5 179,-584.5 0,-584.5\" stroke=\"#000000\"/>\n<text fill=\"#000000\" font-family=\"Times,serif\" font-size=\"14.00\" text-anchor=\"middle\" x=\"89.5\" y=\"-598.8\">embedding_23: Embedding</text>\n</g>\n<!-- 140231658777344&#45;&gt;140231658775832 -->\n<g class=\"edge\" id=\"edge1\">\n<title>140231658777344-&gt;140231658775832</title>\n<path d=\"M89.5,-657.4551C89.5,-649.3828 89.5,-639.6764 89.5,-630.6817\" fill=\"none\" stroke=\"#000000\"/>\n<polygon fill=\"#000000\" points=\"93.0001,-630.5903 89.5,-620.5904 86.0001,-630.5904 93.0001,-630.5903\" stroke=\"#000000\"/>\n</g>\n<!-- 140231699841936 -->\n<g class=\"node\" id=\"node3\">\n<title>140231699841936</title>\n<polygon fill=\"none\" points=\"29,-511.5 29,-547.5 150,-547.5 150,-511.5 29,-511.5\" stroke=\"#000000\"/>\n<text fill=\"#000000\" font-family=\"Times,serif\" font-size=\"14.00\" text-anchor=\"middle\" x=\"89.5\" y=\"-525.8\">flatten_18: Flatten</text>\n</g>\n<!-- 140231658775832&#45;&gt;140231699841936 -->\n<g class=\"edge\" id=\"edge2\">\n<title>140231658775832-&gt;140231699841936</title>\n<path d=\"M89.5,-584.4551C89.5,-576.3828 89.5,-566.6764 89.5,-557.6817\" fill=\"none\" stroke=\"#000000\"/>\n<polygon fill=\"#000000\" points=\"93.0001,-557.5903 89.5,-547.5904 86.0001,-557.5904 93.0001,-557.5903\" stroke=\"#000000\"/>\n</g>\n<!-- 140231658778016 -->\n<g class=\"node\" id=\"node4\">\n<title>140231658778016</title>\n<polygon fill=\"none\" points=\"32.5,-438.5 32.5,-474.5 146.5,-474.5 146.5,-438.5 32.5,-438.5\" stroke=\"#000000\"/>\n<text fill=\"#000000\" font-family=\"Times,serif\" font-size=\"14.00\" text-anchor=\"middle\" x=\"89.5\" y=\"-452.8\">dense_62: Dense</text>\n</g>\n<!-- 140231699841936&#45;&gt;140231658778016 -->\n<g class=\"edge\" id=\"edge3\">\n<title>140231699841936-&gt;140231658778016</title>\n<path d=\"M89.5,-511.4551C89.5,-503.3828 89.5,-493.6764 89.5,-484.6817\" fill=\"none\" stroke=\"#000000\"/>\n<polygon fill=\"#000000\" points=\"93.0001,-484.5903 89.5,-474.5904 86.0001,-484.5904 93.0001,-484.5903\" stroke=\"#000000\"/>\n</g>\n<!-- 140231657343856 -->\n<g class=\"node\" id=\"node5\">\n<title>140231657343856</title>\n<polygon fill=\"none\" points=\"19,-365.5 19,-401.5 160,-401.5 160,-365.5 19,-365.5\" stroke=\"#000000\"/>\n<text fill=\"#000000\" font-family=\"Times,serif\" font-size=\"14.00\" text-anchor=\"middle\" x=\"89.5\" y=\"-379.8\">dropout_12: Dropout</text>\n</g>\n<!-- 140231658778016&#45;&gt;140231657343856 -->\n<g class=\"edge\" id=\"edge4\">\n<title>140231658778016-&gt;140231657343856</title>\n<path d=\"M89.5,-438.4551C89.5,-430.3828 89.5,-420.6764 89.5,-411.6817\" fill=\"none\" stroke=\"#000000\"/>\n<polygon fill=\"#000000\" points=\"93.0001,-411.5903 89.5,-401.5904 86.0001,-411.5904 93.0001,-411.5903\" stroke=\"#000000\"/>\n</g>\n<!-- 140231700388944 -->\n<g class=\"node\" id=\"node6\">\n<title>140231700388944</title>\n<polygon fill=\"none\" points=\"32.5,-292.5 32.5,-328.5 146.5,-328.5 146.5,-292.5 32.5,-292.5\" stroke=\"#000000\"/>\n<text fill=\"#000000\" font-family=\"Times,serif\" font-size=\"14.00\" text-anchor=\"middle\" x=\"89.5\" y=\"-306.8\">dense_63: Dense</text>\n</g>\n<!-- 140231657343856&#45;&gt;140231700388944 -->\n<g class=\"edge\" id=\"edge5\">\n<title>140231657343856-&gt;140231700388944</title>\n<path d=\"M89.5,-365.4551C89.5,-357.3828 89.5,-347.6764 89.5,-338.6817\" fill=\"none\" stroke=\"#000000\"/>\n<polygon fill=\"#000000\" points=\"93.0001,-338.5903 89.5,-328.5904 86.0001,-338.5904 93.0001,-338.5903\" stroke=\"#000000\"/>\n</g>\n<!-- 140231700389392 -->\n<g class=\"node\" id=\"node7\">\n<title>140231700389392</title>\n<polygon fill=\"none\" points=\"19,-219.5 19,-255.5 160,-255.5 160,-219.5 19,-219.5\" stroke=\"#000000\"/>\n<text fill=\"#000000\" font-family=\"Times,serif\" font-size=\"14.00\" text-anchor=\"middle\" x=\"89.5\" y=\"-233.8\">dropout_13: Dropout</text>\n</g>\n<!-- 140231700388944&#45;&gt;140231700389392 -->\n<g class=\"edge\" id=\"edge6\">\n<title>140231700388944-&gt;140231700389392</title>\n<path d=\"M89.5,-292.4551C89.5,-284.3828 89.5,-274.6764 89.5,-265.6817\" fill=\"none\" stroke=\"#000000\"/>\n<polygon fill=\"#000000\" points=\"93.0001,-265.5903 89.5,-255.5904 86.0001,-265.5904 93.0001,-265.5903\" stroke=\"#000000\"/>\n</g>\n<!-- 140231657313168 -->\n<g class=\"node\" id=\"node8\">\n<title>140231657313168</title>\n<polygon fill=\"none\" points=\"32.5,-146.5 32.5,-182.5 146.5,-182.5 146.5,-146.5 32.5,-146.5\" stroke=\"#000000\"/>\n<text fill=\"#000000\" font-family=\"Times,serif\" font-size=\"14.00\" text-anchor=\"middle\" x=\"89.5\" y=\"-160.8\">dense_64: Dense</text>\n</g>\n<!-- 140231700389392&#45;&gt;140231657313168 -->\n<g class=\"edge\" id=\"edge7\">\n<title>140231700389392-&gt;140231657313168</title>\n<path d=\"M89.5,-219.4551C89.5,-211.3828 89.5,-201.6764 89.5,-192.6817\" fill=\"none\" stroke=\"#000000\"/>\n<polygon fill=\"#000000\" points=\"93.0001,-192.5903 89.5,-182.5904 86.0001,-192.5904 93.0001,-192.5903\" stroke=\"#000000\"/>\n</g>\n<!-- 140231658611768 -->\n<g class=\"node\" id=\"node9\">\n<title>140231658611768</title>\n<polygon fill=\"none\" points=\"19,-73.5 19,-109.5 160,-109.5 160,-73.5 19,-73.5\" stroke=\"#000000\"/>\n<text fill=\"#000000\" font-family=\"Times,serif\" font-size=\"14.00\" text-anchor=\"middle\" x=\"89.5\" y=\"-87.8\">dropout_14: Dropout</text>\n</g>\n<!-- 140231657313168&#45;&gt;140231658611768 -->\n<g class=\"edge\" id=\"edge8\">\n<title>140231657313168-&gt;140231658611768</title>\n<path d=\"M89.5,-146.4551C89.5,-138.3828 89.5,-128.6764 89.5,-119.6817\" fill=\"none\" stroke=\"#000000\"/>\n<polygon fill=\"#000000\" points=\"93.0001,-119.5903 89.5,-109.5904 86.0001,-119.5904 93.0001,-119.5903\" stroke=\"#000000\"/>\n</g>\n<!-- 140231658635616 -->\n<g class=\"node\" id=\"node10\">\n<title>140231658635616</title>\n<polygon fill=\"none\" points=\"32.5,-.5 32.5,-36.5 146.5,-36.5 146.5,-.5 32.5,-.5\" stroke=\"#000000\"/>\n<text fill=\"#000000\" font-family=\"Times,serif\" font-size=\"14.00\" text-anchor=\"middle\" x=\"89.5\" y=\"-14.8\">dense_65: Dense</text>\n</g>\n<!-- 140231658611768&#45;&gt;140231658635616 -->\n<g class=\"edge\" id=\"edge9\">\n<title>140231658611768-&gt;140231658635616</title>\n<path d=\"M89.5,-73.4551C89.5,-65.3828 89.5,-55.6764 89.5,-46.6817\" fill=\"none\" stroke=\"#000000\"/>\n<polygon fill=\"#000000\" points=\"93.0001,-46.5903 89.5,-36.5904 86.0001,-46.5904 93.0001,-46.5903\" stroke=\"#000000\"/>\n</g>\n</g>\n</svg>"
          },
          "metadata": {
            "tags": []
          },
          "execution_count": 227
        }
      ]
    },
    {
      "cell_type": "code",
      "metadata": {
        "colab": {
          "base_uri": "https://localhost:8080/"
        },
        "id": "AuPl3QoHgVCC",
        "outputId": "55cf24d3-2752-4b9c-d3f6-780a57c6e88b"
      },
      "source": [
        "# Train the model\r\n",
        "model1.fit(X_train,y_train, epochs = 10, batch_size = 2**5, verbose = True, validation_data = (X_test,y_test))"
      ],
      "execution_count": 228,
      "outputs": [
        {
          "output_type": "stream",
          "text": [
            "Epoch 1/10\n",
            "366/366 [==============================] - 9s 24ms/step - loss: 0.8843 - categorical_accuracy: 0.6127 - val_loss: 0.6192 - val_categorical_accuracy: 0.7551\n",
            "Epoch 2/10\n",
            "366/366 [==============================] - 9s 24ms/step - loss: 0.6516 - categorical_accuracy: 0.7330 - val_loss: 0.5732 - val_categorical_accuracy: 0.7684\n",
            "Epoch 3/10\n",
            "366/366 [==============================] - 9s 24ms/step - loss: 0.5637 - categorical_accuracy: 0.7778 - val_loss: 0.5632 - val_categorical_accuracy: 0.7749\n",
            "Epoch 4/10\n",
            "366/366 [==============================] - 9s 24ms/step - loss: 0.4944 - categorical_accuracy: 0.8070 - val_loss: 0.5771 - val_categorical_accuracy: 0.7790\n",
            "Epoch 5/10\n",
            "366/366 [==============================] - 9s 24ms/step - loss: 0.4317 - categorical_accuracy: 0.8295 - val_loss: 0.5988 - val_categorical_accuracy: 0.7814\n",
            "Epoch 6/10\n",
            "366/366 [==============================] - 9s 24ms/step - loss: 0.3902 - categorical_accuracy: 0.8509 - val_loss: 0.6455 - val_categorical_accuracy: 0.7698\n",
            "Epoch 7/10\n",
            "366/366 [==============================] - 9s 24ms/step - loss: 0.3415 - categorical_accuracy: 0.8751 - val_loss: 0.7311 - val_categorical_accuracy: 0.7698\n",
            "Epoch 8/10\n",
            "366/366 [==============================] - 9s 24ms/step - loss: 0.3034 - categorical_accuracy: 0.8880 - val_loss: 0.8333 - val_categorical_accuracy: 0.7664\n",
            "Epoch 9/10\n",
            "366/366 [==============================] - 9s 24ms/step - loss: 0.2569 - categorical_accuracy: 0.9051 - val_loss: 0.8754 - val_categorical_accuracy: 0.7609\n",
            "Epoch 10/10\n",
            "366/366 [==============================] - 9s 24ms/step - loss: 0.2495 - categorical_accuracy: 0.9083 - val_loss: 0.9464 - val_categorical_accuracy: 0.7558\n"
          ],
          "name": "stdout"
        },
        {
          "output_type": "execute_result",
          "data": {
            "text/plain": [
              "<tensorflow.python.keras.callbacks.History at 0x7f8a46ee7588>"
            ]
          },
          "metadata": {
            "tags": []
          },
          "execution_count": 228
        }
      ]
    },
    {
      "cell_type": "code",
      "metadata": {
        "colab": {
          "base_uri": "https://localhost:8080/"
        },
        "id": "xZML5P-XkAc5",
        "outputId": "06bd64d7-5c7e-422c-cd1c-cfd6ea28d122"
      },
      "source": [
        "# Save model\r\n",
        "model1.save('Word2Vec_10epochs_NN')"
      ],
      "execution_count": 218,
      "outputs": [
        {
          "output_type": "stream",
          "text": [
            "INFO:tensorflow:Assets written to: Word2Vec_10epochs_NN/assets\n"
          ],
          "name": "stdout"
        },
        {
          "output_type": "stream",
          "text": [
            "INFO:tensorflow:Assets written to: Word2Vec_10epochs_NN/assets\n"
          ],
          "name": "stderr"
        }
      ]
    }
  ]
}