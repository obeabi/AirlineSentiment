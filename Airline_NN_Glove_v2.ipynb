{
  "nbformat": 4,
  "nbformat_minor": 0,
  "metadata": {
    "colab": {
      "name": "Airline_NN_Glove.ipynb",
      "provenance": [],
      "toc_visible": true,
      "authorship_tag": "ABX9TyMCl8zRcuIY/Z4MPY/dtwaV",
      "include_colab_link": true
    },
    "kernelspec": {
      "name": "python3",
      "display_name": "Python 3"
    }
  },
  "cells": [
    {
      "cell_type": "markdown",
      "metadata": {
        "id": "view-in-github",
        "colab_type": "text"
      },
      "source": [
        "<a href=\"https://colab.research.google.com/github/obeabi/AirlineSentiment/blob/main/Airline_NN_Glove_v2.ipynb\" target=\"_parent\"><img src=\"https://colab.research.google.com/assets/colab-badge.svg\" alt=\"Open In Colab\"/></a>"
      ]
    },
    {
      "cell_type": "markdown",
      "metadata": {
        "id": "VJMaZXt8yoE-"
      },
      "source": [
        "# Airline Sentiment Dataset\r\n",
        "## Written by Abiola Obembe\r\n",
        "### Date: 2020-12-24\r\n",
        "\r\n",
        "### Goal: Train a classifiier to predict customer sentiment from customer review text (using NN and pretrained word embeddings i.e. glove)\r\n"
      ]
    },
    {
      "cell_type": "markdown",
      "metadata": {
        "id": "YqeNHhjp25v_"
      },
      "source": [
        "A sentiment analysis job about the problems of each major U.S. airline. Twitter data was scraped from February of 2015 and contributors were asked to first classify positive, negative, and neutral tweets, followed by categorizing negative reasons (such as \"late flight\" or \"rude service\")."
      ]
    },
    {
      "cell_type": "markdown",
      "metadata": {
        "id": "LiwXn9d50qi6"
      },
      "source": [
        "## Step 1: Data Cleaning and Preprocessing"
      ]
    },
    {
      "cell_type": "code",
      "metadata": {
        "colab": {
          "base_uri": "https://localhost:8080/"
        },
        "id": "QCi0HP5szMY8",
        "outputId": "ca27e1a3-0989-4f53-d9c6-f4e7d52e36d8"
      },
      "source": [
        "# install libraries\r\n",
        "import pandas as pd\r\n",
        "import numpy as np\r\n",
        "import matplotlib.pyplot as plt\r\n",
        "\r\n",
        "%matplotlib inline\r\n",
        "plt.rcParams['figure.figsize'] = (18.0, 12.0) # set default size of plots\r\n",
        "plt.rcParams['image.interpolation'] = 'nearest'\r\n",
        "plt.rcParams['image.cmap'] = 'gray'\r\n",
        "\r\n",
        "\r\n",
        "print(\"installation complete!\")\r\n"
      ],
      "execution_count": 23,
      "outputs": [
        {
          "output_type": "stream",
          "text": [
            "installation complete!\n"
          ],
          "name": "stdout"
        }
      ]
    },
    {
      "cell_type": "code",
      "metadata": {
        "colab": {
          "base_uri": "https://localhost:8080/",
          "height": 434
        },
        "id": "Ru8XNKar0pGE",
        "outputId": "95a84f12-faac-4b4e-ced6-55eb5d86f3b3"
      },
      "source": [
        "# Import dataset\r\n",
        "dataset = pd.read_csv('Tweets.csv', encoding= 'latin1', engine='python', quoting = 1)\r\n",
        "\r\n",
        "dataset.head()"
      ],
      "execution_count": 24,
      "outputs": [
        {
          "output_type": "execute_result",
          "data": {
            "text/html": [
              "<div>\n",
              "<style scoped>\n",
              "    .dataframe tbody tr th:only-of-type {\n",
              "        vertical-align: middle;\n",
              "    }\n",
              "\n",
              "    .dataframe tbody tr th {\n",
              "        vertical-align: top;\n",
              "    }\n",
              "\n",
              "    .dataframe thead th {\n",
              "        text-align: right;\n",
              "    }\n",
              "</style>\n",
              "<table border=\"1\" class=\"dataframe\">\n",
              "  <thead>\n",
              "    <tr style=\"text-align: right;\">\n",
              "      <th></th>\n",
              "      <th>tweet_id</th>\n",
              "      <th>airline_sentiment</th>\n",
              "      <th>airline_sentiment_confidence</th>\n",
              "      <th>negativereason</th>\n",
              "      <th>negativereason_confidence</th>\n",
              "      <th>airline</th>\n",
              "      <th>airline_sentiment_gold</th>\n",
              "      <th>name</th>\n",
              "      <th>negativereason_gold</th>\n",
              "      <th>retweet_count</th>\n",
              "      <th>text</th>\n",
              "      <th>tweet_coord</th>\n",
              "      <th>tweet_created</th>\n",
              "      <th>tweet_location</th>\n",
              "      <th>user_timezone</th>\n",
              "    </tr>\n",
              "  </thead>\n",
              "  <tbody>\n",
              "    <tr>\n",
              "      <th>0</th>\n",
              "      <td>570306133677760513</td>\n",
              "      <td>neutral</td>\n",
              "      <td>1.0000</td>\n",
              "      <td>NaN</td>\n",
              "      <td>NaN</td>\n",
              "      <td>Virgin America</td>\n",
              "      <td>NaN</td>\n",
              "      <td>cairdin</td>\n",
              "      <td>NaN</td>\n",
              "      <td>0</td>\n",
              "      <td>@VirginAmerica What @dhepburn said.</td>\n",
              "      <td>NaN</td>\n",
              "      <td>2015-02-24 11:35:52 -0800</td>\n",
              "      <td>NaN</td>\n",
              "      <td>Eastern Time (US &amp; Canada)</td>\n",
              "    </tr>\n",
              "    <tr>\n",
              "      <th>1</th>\n",
              "      <td>570301130888122368</td>\n",
              "      <td>positive</td>\n",
              "      <td>0.3486</td>\n",
              "      <td>NaN</td>\n",
              "      <td>0.0000</td>\n",
              "      <td>Virgin America</td>\n",
              "      <td>NaN</td>\n",
              "      <td>jnardino</td>\n",
              "      <td>NaN</td>\n",
              "      <td>0</td>\n",
              "      <td>@VirginAmerica plus you've added commercials t...</td>\n",
              "      <td>NaN</td>\n",
              "      <td>2015-02-24 11:15:59 -0800</td>\n",
              "      <td>NaN</td>\n",
              "      <td>Pacific Time (US &amp; Canada)</td>\n",
              "    </tr>\n",
              "    <tr>\n",
              "      <th>2</th>\n",
              "      <td>570301083672813571</td>\n",
              "      <td>neutral</td>\n",
              "      <td>0.6837</td>\n",
              "      <td>NaN</td>\n",
              "      <td>NaN</td>\n",
              "      <td>Virgin America</td>\n",
              "      <td>NaN</td>\n",
              "      <td>yvonnalynn</td>\n",
              "      <td>NaN</td>\n",
              "      <td>0</td>\n",
              "      <td>@VirginAmerica I didn't today... Must mean I n...</td>\n",
              "      <td>NaN</td>\n",
              "      <td>2015-02-24 11:15:48 -0800</td>\n",
              "      <td>Lets Play</td>\n",
              "      <td>Central Time (US &amp; Canada)</td>\n",
              "    </tr>\n",
              "    <tr>\n",
              "      <th>3</th>\n",
              "      <td>570301031407624196</td>\n",
              "      <td>negative</td>\n",
              "      <td>1.0000</td>\n",
              "      <td>Bad Flight</td>\n",
              "      <td>0.7033</td>\n",
              "      <td>Virgin America</td>\n",
              "      <td>NaN</td>\n",
              "      <td>jnardino</td>\n",
              "      <td>NaN</td>\n",
              "      <td>0</td>\n",
              "      <td>@VirginAmerica it's really aggressive to blast...</td>\n",
              "      <td>NaN</td>\n",
              "      <td>2015-02-24 11:15:36 -0800</td>\n",
              "      <td>NaN</td>\n",
              "      <td>Pacific Time (US &amp; Canada)</td>\n",
              "    </tr>\n",
              "    <tr>\n",
              "      <th>4</th>\n",
              "      <td>570300817074462722</td>\n",
              "      <td>negative</td>\n",
              "      <td>1.0000</td>\n",
              "      <td>Can't Tell</td>\n",
              "      <td>1.0000</td>\n",
              "      <td>Virgin America</td>\n",
              "      <td>NaN</td>\n",
              "      <td>jnardino</td>\n",
              "      <td>NaN</td>\n",
              "      <td>0</td>\n",
              "      <td>@VirginAmerica and it's a really big bad thing...</td>\n",
              "      <td>NaN</td>\n",
              "      <td>2015-02-24 11:14:45 -0800</td>\n",
              "      <td>NaN</td>\n",
              "      <td>Pacific Time (US &amp; Canada)</td>\n",
              "    </tr>\n",
              "  </tbody>\n",
              "</table>\n",
              "</div>"
            ],
            "text/plain": [
              "             tweet_id  ...               user_timezone\n",
              "0  570306133677760513  ...  Eastern Time (US & Canada)\n",
              "1  570301130888122368  ...  Pacific Time (US & Canada)\n",
              "2  570301083672813571  ...  Central Time (US & Canada)\n",
              "3  570301031407624196  ...  Pacific Time (US & Canada)\n",
              "4  570300817074462722  ...  Pacific Time (US & Canada)\n",
              "\n",
              "[5 rows x 15 columns]"
            ]
          },
          "metadata": {
            "tags": []
          },
          "execution_count": 24
        }
      ]
    },
    {
      "cell_type": "code",
      "metadata": {
        "colab": {
          "base_uri": "https://localhost:8080/",
          "height": 343
        },
        "id": "ZXcBWVgA2_co",
        "outputId": "efdbe9f5-71c8-4613-d689-8c5d54f2368e"
      },
      "source": [
        "# Drop columns not required\r\n",
        "dataset.drop(columns = ['tweet_id', 'airline_sentiment_confidence', 'negativereason', 'negativereason_confidence',\r\n",
        "                        'airline', 'airline_sentiment_gold','name','negativereason_gold','retweet_count','tweet_coord',\r\n",
        "                        'tweet_created','tweet_location','user_timezone'], axis = 1, inplace = True)\r\n",
        "dataset.head(10)"
      ],
      "execution_count": 25,
      "outputs": [
        {
          "output_type": "execute_result",
          "data": {
            "text/html": [
              "<div>\n",
              "<style scoped>\n",
              "    .dataframe tbody tr th:only-of-type {\n",
              "        vertical-align: middle;\n",
              "    }\n",
              "\n",
              "    .dataframe tbody tr th {\n",
              "        vertical-align: top;\n",
              "    }\n",
              "\n",
              "    .dataframe thead th {\n",
              "        text-align: right;\n",
              "    }\n",
              "</style>\n",
              "<table border=\"1\" class=\"dataframe\">\n",
              "  <thead>\n",
              "    <tr style=\"text-align: right;\">\n",
              "      <th></th>\n",
              "      <th>airline_sentiment</th>\n",
              "      <th>text</th>\n",
              "    </tr>\n",
              "  </thead>\n",
              "  <tbody>\n",
              "    <tr>\n",
              "      <th>0</th>\n",
              "      <td>neutral</td>\n",
              "      <td>@VirginAmerica What @dhepburn said.</td>\n",
              "    </tr>\n",
              "    <tr>\n",
              "      <th>1</th>\n",
              "      <td>positive</td>\n",
              "      <td>@VirginAmerica plus you've added commercials t...</td>\n",
              "    </tr>\n",
              "    <tr>\n",
              "      <th>2</th>\n",
              "      <td>neutral</td>\n",
              "      <td>@VirginAmerica I didn't today... Must mean I n...</td>\n",
              "    </tr>\n",
              "    <tr>\n",
              "      <th>3</th>\n",
              "      <td>negative</td>\n",
              "      <td>@VirginAmerica it's really aggressive to blast...</td>\n",
              "    </tr>\n",
              "    <tr>\n",
              "      <th>4</th>\n",
              "      <td>negative</td>\n",
              "      <td>@VirginAmerica and it's a really big bad thing...</td>\n",
              "    </tr>\n",
              "    <tr>\n",
              "      <th>5</th>\n",
              "      <td>negative</td>\n",
              "      <td>@VirginAmerica seriously would pay $30 a fligh...</td>\n",
              "    </tr>\n",
              "    <tr>\n",
              "      <th>6</th>\n",
              "      <td>positive</td>\n",
              "      <td>@VirginAmerica yes, nearly every time I fly VX...</td>\n",
              "    </tr>\n",
              "    <tr>\n",
              "      <th>7</th>\n",
              "      <td>neutral</td>\n",
              "      <td>@VirginAmerica Really missed a prime opportuni...</td>\n",
              "    </tr>\n",
              "    <tr>\n",
              "      <th>8</th>\n",
              "      <td>positive</td>\n",
              "      <td>@virginamerica Well, I didn'tâ¦but NOW I DO! :-D</td>\n",
              "    </tr>\n",
              "    <tr>\n",
              "      <th>9</th>\n",
              "      <td>positive</td>\n",
              "      <td>@VirginAmerica it was amazing, and arrived an ...</td>\n",
              "    </tr>\n",
              "  </tbody>\n",
              "</table>\n",
              "</div>"
            ],
            "text/plain": [
              "  airline_sentiment                                               text\n",
              "0           neutral                @VirginAmerica What @dhepburn said.\n",
              "1          positive  @VirginAmerica plus you've added commercials t...\n",
              "2           neutral  @VirginAmerica I didn't today... Must mean I n...\n",
              "3          negative  @VirginAmerica it's really aggressive to blast...\n",
              "4          negative  @VirginAmerica and it's a really big bad thing...\n",
              "5          negative  @VirginAmerica seriously would pay $30 a fligh...\n",
              "6          positive  @VirginAmerica yes, nearly every time I fly VX...\n",
              "7           neutral  @VirginAmerica Really missed a prime opportuni...\n",
              "8          positive  @virginamerica Well, I didn'tâ¦but NOW I DO! :-D\n",
              "9          positive  @VirginAmerica it was amazing, and arrived an ..."
            ]
          },
          "metadata": {
            "tags": []
          },
          "execution_count": 25
        }
      ]
    },
    {
      "cell_type": "code",
      "metadata": {
        "colab": {
          "base_uri": "https://localhost:8080/"
        },
        "id": "ghh1CI-p4MSM",
        "outputId": "026b3130-62d7-429b-b4a1-6182303b8c06"
      },
      "source": [
        "#  Investigate the number of distinct sentiments\r\n",
        "dataset['airline_sentiment'].value_counts()"
      ],
      "execution_count": 26,
      "outputs": [
        {
          "output_type": "execute_result",
          "data": {
            "text/plain": [
              "negative    9178\n",
              "neutral     3099\n",
              "positive    2363\n",
              "Name: airline_sentiment, dtype: int64"
            ]
          },
          "metadata": {
            "tags": []
          },
          "execution_count": 26
        }
      ]
    },
    {
      "cell_type": "code",
      "metadata": {
        "colab": {
          "base_uri": "https://localhost:8080/",
          "height": 730
        },
        "id": "G9xjlClf4Y8Y",
        "outputId": "97a4a627-c4db-4dc7-d347-19dd9e48ade0"
      },
      "source": [
        "# Lets visualize the sentiments\r\n",
        "count_classes = pd.value_counts(dataset['airline_sentiment'], sort = True)\r\n",
        "count_classes.plot(kind = 'bar', rot = 0)\r\n",
        "plt.title(\"Customer Sentiment Distribution\")\r\n",
        "plt.xticks(range(3))\r\n",
        "plt.xlabel(\"Sentiment\")\r\n",
        "plt.ylabel('Frequency')\r\n",
        "plt.show()"
      ],
      "execution_count": 27,
      "outputs": [
        {
          "output_type": "display_data",
          "data": {
            "image/png": "[encoded data removed]",
            "text/plain": [
              "<Figure size 1296x864 with 1 Axes>"
            ]
          },
          "metadata": {
            "tags": [],
            "needs_background": "light"
          }
        }
      ]
    },
    {
      "cell_type": "code",
      "metadata": {
        "colab": {
          "base_uri": "https://localhost:8080/"
        },
        "id": "tjZdgHY45JHr",
        "outputId": "22e1d463-cddf-432f-b5cf-b01e07e2cc6e"
      },
      "source": [
        "# Let us check for missing values in both columns\r\n",
        "print(dataset.isnull().sum())\r\n",
        "\r\n",
        "missing_values = dataset.isnull().sum().sum()\r\n",
        "print('The total number of missing values in the dataframe is' , str(missing_values))"
      ],
      "execution_count": 28,
      "outputs": [
        {
          "output_type": "stream",
          "text": [
            "airline_sentiment    0\n",
            "text                 0\n",
            "dtype: int64\n",
            "The total number of missing values in the dataframe is 0\n"
          ],
          "name": "stdout"
        }
      ]
    },
    {
      "cell_type": "code",
      "metadata": {
        "colab": {
          "base_uri": "https://localhost:8080/"
        },
        "id": "vRkYlsNM6nzN",
        "outputId": "5c20b949-5dc1-4610-a0cb-074084769824"
      },
      "source": [
        "## Data Cleaning\r\n",
        "\r\n",
        "import re\r\n",
        "import nltk\r\n",
        "nltk.download('stopwords')\r\n",
        "nltk.download('wordnet')\r\n",
        "from nltk.corpus import stopwords\r\n",
        "from nltk.stem import WordNetLemmatizer\r\n",
        "corpus = []\r\n",
        "\r\n",
        "\r\n",
        "\r\n",
        "\r\n",
        "for i in range(0,dataset.shape[0]):\r\n",
        "  reviews = re.sub(r\"@[A-Za-z0-9]+\", ' ', dataset['text'][i])\r\n",
        "  reviews = re.sub(r'[^a-zA-Z]', ' ',reviews)\r\n",
        "  # Removing additional whitespaces\r\n",
        "  reviews = re.sub(r\" +\", ' ', reviews)\r\n",
        "  reviews = reviews.lower()\r\n",
        "  reviews = reviews.split()\r\n",
        "  wl = WordNetLemmatizer()\r\n",
        "  review = [wl.lemmatize(word) for word in reviews if not word in set(stopwords.words('english'))]\r\n",
        "  review = ' '.join(review) \r\n",
        "  corpus.append(review)\r\n",
        " \r\n",
        "\r\n",
        "\r\n"
      ],
      "execution_count": 29,
      "outputs": [
        {
          "output_type": "stream",
          "text": [
            "[nltk_data] Downloading package stopwords to /root/nltk_data...\n",
            "[nltk_data]   Package stopwords is already up-to-date!\n",
            "[nltk_data] Downloading package wordnet to /root/nltk_data...\n",
            "[nltk_data]   Package wordnet is already up-to-date!\n"
          ],
          "name": "stdout"
        }
      ]
    },
    {
      "cell_type": "code",
      "metadata": {
        "colab": {
          "base_uri": "https://localhost:8080/"
        },
        "id": "rbBAOaXfB80t",
        "outputId": "9464bd4b-446b-4104-f69e-72eafc1270ea"
      },
      "source": [
        "# Install tensorflow\r\n",
        "try:\r\n",
        "    %tensorflow_version 2.x\r\n",
        "except Exception:\r\n",
        "    pass\r\n",
        "import tensorflow as tf\r\n",
        "\r\n",
        "from tensorflow.keras import layers\r\n",
        "import tensorflow_datasets as tfds\r\n",
        "print(\"Tensorflow version  :\", tf.__version__)"
      ],
      "execution_count": 30,
      "outputs": [
        {
          "output_type": "stream",
          "text": [
            "Tensorflow version  : 2.4.0\n"
          ],
          "name": "stdout"
        }
      ]
    },
    {
      "cell_type": "markdown",
      "metadata": {
        "id": "LP0OSKBoCvpd"
      },
      "source": [
        "## STEP 2: Tokenization and Padding"
      ]
    },
    {
      "cell_type": "code",
      "metadata": {
        "colab": {
          "base_uri": "https://localhost:8080/"
        },
        "id": "ADJtsjBvRrf2",
        "outputId": "02f3c83e-1c5b-4781-e290-cbe822c6f7dc"
      },
      "source": [
        "# import libraries\r\n",
        "from keras.preprocessing.text import Tokenizer\r\n",
        "from keras.preprocessing.sequence import pad_sequences\r\n",
        "\r\n",
        "#\r\n",
        "NB_words = 2**10\r\n",
        "MAX_SEQ_LEN = 100   \r\n",
        "tokenizer = Tokenizer(nb_words = NB_words)\r\n",
        "tokenizer.fit_on_texts(corpus)\r\n",
        "sequences = tokenizer.texts_to_sequences(corpus)\r\n",
        "word_index = tokenizer.word_index \r\n",
        "\r\n",
        "print(\"Found unique tokens\", len(word_index))\r\n",
        "\r\n",
        "data = pad_sequences(sequences, value=0, padding=\"post\", maxlen=MAX_SEQ_LEN)\r\n"
      ],
      "execution_count": 31,
      "outputs": [
        {
          "output_type": "stream",
          "text": [
            "/usr/local/lib/python3.6/dist-packages/keras_preprocessing/text.py:180: UserWarning: The `nb_words` argument in `Tokenizer` has been renamed `num_words`.\n",
            "  warnings.warn('The `nb_words` argument in `Tokenizer` '\n"
          ],
          "name": "stderr"
        },
        {
          "output_type": "stream",
          "text": [
            "Found unique tokens 11850\n"
          ],
          "name": "stdout"
        }
      ]
    },
    {
      "cell_type": "code",
      "metadata": {
        "id": "LhZpBN54zTFA",
        "outputId": "2c693776-c408-4e65-dd33-eafc5624e58e",
        "colab": {
          "base_uri": "https://localhost:8080/"
        }
      },
      "source": [
        "print(data)"
      ],
      "execution_count": 32,
      "outputs": [
        {
          "output_type": "stream",
          "text": [
            "[[126   0   0 ...   0   0   0]\n",
            " [410 946 107 ...   0   0   0]\n",
            " [ 35 610 269 ...   0   0   0]\n",
            " ...\n",
            " [ 23 503 330 ...   0   0   0]\n",
            " [255  48   1 ...   0   0   0]\n",
            " [689  17  44 ...   0   0   0]]\n"
          ],
          "name": "stdout"
        }
      ]
    },
    {
      "cell_type": "code",
      "metadata": {
        "colab": {
          "base_uri": "https://localhost:8080/"
        },
        "id": "Q7qappxRV5AW",
        "outputId": "e60e3dbd-45f6-41fe-8986-c6ea044a4901"
      },
      "source": [
        "# Let us encode the labels into integers \r\n",
        "from sklearn import preprocessing \r\n",
        "  \r\n",
        "# label_encoder \r\n",
        "label_encoder = preprocessing.LabelEncoder() \r\n",
        "  \r\n",
        "# Encode labels in column 'species'. \r\n",
        "dataset['airline_sentiment']= label_encoder.fit_transform(dataset['airline_sentiment']) \r\n",
        "  \r\n",
        "dataset['airline_sentiment'].unique() "
      ],
      "execution_count": 33,
      "outputs": [
        {
          "output_type": "execute_result",
          "data": {
            "text/plain": [
              "array([1, 2, 0])"
            ]
          },
          "metadata": {
            "tags": []
          },
          "execution_count": 33
        }
      ]
    },
    {
      "cell_type": "markdown",
      "metadata": {
        "id": "mZzSR6Gyy5Ix"
      },
      "source": [
        "## Step x: Address imbalance in dataset"
      ]
    },
    {
      "cell_type": "code",
      "metadata": {
        "id": "rAcX8_8jy9E5",
        "outputId": "586a70a6-2a2e-44e2-ca57-90f9a8161962",
        "colab": {
          "base_uri": "https://localhost:8080/"
        }
      },
      "source": [
        "# Oversampling method \r\n",
        "# Class to perform over-sampling using SMOTE and cleaning using Tomek links.\r\n",
        "X = data.copy()\r\n",
        "y = dataset['airline_sentiment'].values\r\n",
        "\r\n",
        "\r\n",
        "\r\n",
        "#from imblearn.combine import SMOTETomek\r\n",
        "#smk = SMOTETomek(sampling_strategy = 'all', random_state=0)\r\n",
        "#X_sm,y_sm = smk.fit_sample(data,y)\r\n",
        "\r\n",
        "\r\n",
        "\r\n",
        "# Random Oversampling method\r\n",
        "from imblearn.over_sampling import RandomOverSampler\r\n",
        "os=RandomOverSampler(sampling_strategy= 'all', random_state=42)\r\n",
        "X_os,y_os=os.fit_sample(X,y)\r\n",
        "\r\n",
        "\r\n",
        "#from imblearn.under_sampling import NearMiss\r\n",
        "#ns=NearMiss(sampling_strategy= 'all', random_state = 0.8)\r\n",
        "#X_ns,y_ns=ns.fit_sample(X,y)\r\n",
        "\r\n",
        "\r\n",
        "\r\n",
        "\r\n",
        "# Confirm the shape of X and y\r\n",
        "print(X.shape)\r\n",
        "print(y.shape)\r\n",
        "\r\n",
        "# Confirm new shape of X _train_ov and y_ov\r\n",
        "#print(X_sm.shape)\r\n",
        "#print(y_sm.shape)\r\n",
        "\r\n",
        "print(X_os.shape)\r\n",
        "print(y_os.shape)\r\n",
        "\r\n",
        "\r\n",
        "#print(X_ns.shape)\r\n",
        "#print(y_ns.shape)"
      ],
      "execution_count": 34,
      "outputs": [
        {
          "output_type": "stream",
          "text": [
            "(14640, 100)\n",
            "(14640,)\n",
            "(27534, 100)\n",
            "(27534,)\n"
          ],
          "name": "stdout"
        },
        {
          "output_type": "stream",
          "text": [
            "/usr/local/lib/python3.6/dist-packages/sklearn/utils/deprecation.py:87: FutureWarning: Function safe_indexing is deprecated; safe_indexing is deprecated in version 0.22 and will be removed in version 0.24.\n",
            "  warnings.warn(msg, category=FutureWarning)\n"
          ],
          "name": "stderr"
        }
      ]
    },
    {
      "cell_type": "code",
      "metadata": {
        "id": "Tw-Pd9Mr0Npn",
        "outputId": "c195b2b8-d9e5-4ba1-dad3-0f86f7b62035",
        "colab": {
          "base_uri": "https://localhost:8080/"
        }
      },
      "source": [
        "# Inspect resampled dataset\r\n",
        "from collections import Counter\r\n",
        "\r\n",
        "# FOR SMOTETEK\r\n",
        "#print('Original dataset shape %s' % Counter(y))\r\n",
        "#print('Resampled dataset shape %s' % Counter(y_sm))\r\n",
        "\r\n",
        "\r\n",
        "# FOR RANDOM OVERSAMPLING\r\n",
        "print('Original dataset shape %s' % Counter(y))\r\n",
        "print('Resampled dataset shape %s' % Counter(y_os))\r\n",
        "\r\n",
        "# FOR near miss undersampling\r\n",
        "#print(\"The number of classes before fit {}\".format(Counter(y)))\r\n",
        "#print(\"The number of classes after fit {}\".format(Counter(y_ns)))"
      ],
      "execution_count": 35,
      "outputs": [
        {
          "output_type": "stream",
          "text": [
            "Original dataset shape Counter({0: 9178, 1: 3099, 2: 2363})\n",
            "Resampled dataset shape Counter({1: 9178, 2: 9178, 0: 9178})\n"
          ],
          "name": "stdout"
        }
      ]
    },
    {
      "cell_type": "code",
      "metadata": {
        "id": "9R-y73Xr0CN2",
        "outputId": "3b00e3d8-d758-47ac-a95c-3418348b03b3",
        "colab": {
          "base_uri": "https://localhost:8080/"
        }
      },
      "source": [
        "# Break off validation set from training data\r\n",
        "#y = dataset['airline_sentiment'].values\r\n",
        "\r\n",
        "from keras.utils import  to_categorical\r\n",
        "#y = to_categorical(np.asarray(y_sm))\r\n",
        "y = to_categorical(np.asarray(y_os))\r\n",
        "#y = to_categorical(np.asarray(y_ns))\r\n",
        "\r\n",
        "\r\n",
        "\r\n",
        "\r\n",
        "from sklearn.model_selection import train_test_split\r\n",
        "#X_train_sm, X_test_sm, y_train_sm, y_test_sm = train_test_split(X_sm, y,train_size=0.8, test_size=0.2, random_state=0)\r\n",
        "X_train_os, X_test_os, y_train_os, y_test_os = train_test_split(X_os, y,train_size=0.8, test_size=0.2, random_state=0)\r\n",
        "#X_train_ns, X_test_ns, y_train_ns, y_test_ns = train_test_split(X_ns, y,train_size=0.8, test_size=0.2, random_state=0)\r\n",
        "\r\n",
        "#[nsample,nshape] = X_train_sm.shape\r\n",
        "[nsample,nshape] = X_train_os.shape\r\n",
        "#[nsample,nshape] = X_train_ns.shape\r\n",
        "print(nsample)\r\n",
        "print(nshape)"
      ],
      "execution_count": 36,
      "outputs": [
        {
          "output_type": "stream",
          "text": [
            "22027\n",
            "100\n"
          ],
          "name": "stdout"
        }
      ]
    },
    {
      "cell_type": "code",
      "metadata": {
        "id": "QRzg-A021h-u",
        "outputId": "78bde500-b353-448c-e1b0-686391d1d650",
        "colab": {
          "base_uri": "https://localhost:8080/"
        }
      },
      "source": [
        "#print(y_train_sm.shape)\r\n",
        "print(y_train_os.shape)\r\n",
        "#print(y_train_ns.shape)"
      ],
      "execution_count": 37,
      "outputs": [
        {
          "output_type": "stream",
          "text": [
            "(22027, 3)\n"
          ],
          "name": "stdout"
        }
      ]
    },
    {
      "cell_type": "markdown",
      "metadata": {
        "id": "htvMcdQAlUq0"
      },
      "source": [
        "### Obtain Glove Embedding Matrix"
      ]
    },
    {
      "cell_type": "code",
      "metadata": {
        "id": "ZO0GeRIykMsQ",
        "colab": {
          "base_uri": "https://localhost:8080/"
        },
        "outputId": "8d222c10-b5e0-4a03-fc25-dedd7432d5a2"
      },
      "source": [
        "# load the whole embedding into memory\r\n",
        "embeddings_index = dict()\r\n",
        "\r\n",
        "f = open('./glove.6B.100d.txt')\r\n",
        "for line in f:\r\n",
        "  values = line.split()\r\n",
        "  word = values[0]\r\n",
        "  coefs = np.asarray(values[1:], dtype = 'float32')\r\n",
        "  embeddings_index[word] = coefs\r\n",
        "f.close()\r\n",
        "\r\n",
        "\r\n",
        "print(\"Loaded word vectors\", len(embeddings_index))\r\n",
        "\r\n",
        "vocab = tokenizer.sequences_to_texts(corpus)\r\n",
        "# adding one because of 0 reservded index\r\n",
        "vocab_size = len(tokenizer.word_index) + 1\r\n",
        "\r\n",
        "print(vocab_size)\r\n"
      ],
      "execution_count": 38,
      "outputs": [
        {
          "output_type": "stream",
          "text": [
            "Loaded word vectors 400000\n",
            "11851\n"
          ],
          "name": "stdout"
        }
      ]
    },
    {
      "cell_type": "code",
      "metadata": {
        "id": "_HB6kJ_Sm9wg"
      },
      "source": [
        "# create a weight matrix for words in the training document\r\n",
        "embedding_matrix = np.zeros((vocab_size, 100))\r\n",
        "\r\n",
        "for word, i in tokenizer.word_index.items():\r\n",
        "    embedding_vector = embeddings_index.get(word)\r\n",
        "    if embedding_vector is not None:\r\n",
        "      embedding_matrix[i]= embedding_vector\r\n",
        "  "
      ],
      "execution_count": 39,
      "outputs": []
    },
    {
      "cell_type": "markdown",
      "metadata": {
        "id": "jGicKLKDbENK"
      },
      "source": [
        "## Step 3: Build and Train Model "
      ]
    },
    {
      "cell_type": "code",
      "metadata": {
        "colab": {
          "base_uri": "https://localhost:8080/"
        },
        "id": "iYoJAe5sbfHr",
        "outputId": "33a1ff50-5bef-4cc1-f339-365d09c6e190"
      },
      "source": [
        "# Import keras libraries\r\n",
        "from keras.models import Sequential, Model\r\n",
        "from keras.layers import Dense,Dropout,Activation\r\n",
        "from keras.layers import Input, Flatten, Embedding, concatenate\r\n",
        "from keras.layers.recurrent import LSTM\r\n",
        "from keras.layers.wrappers import Bidirectional\r\n",
        "from keras.utils import to_categorical\r\n",
        "\r\n",
        "from IPython.display import SVG\r\n",
        "from keras.utils.vis_utils import model_to_dot\r\n",
        "\r\n",
        "print(\"Installation sucessfull!\")"
      ],
      "execution_count": 40,
      "outputs": [
        {
          "output_type": "stream",
          "text": [
            "Installation sucessfull!\n"
          ],
          "name": "stdout"
        }
      ]
    },
    {
      "cell_type": "code",
      "metadata": {
        "colab": {
          "base_uri": "https://localhost:8080/",
          "height": 1000
        },
        "id": "-c9XT69AbIW1",
        "outputId": "6a7fd336-525c-4f37-e585-82e1e8fc5cba"
      },
      "source": [
        "# Build Seq2Seq architecture\r\n",
        "\r\n",
        "model1 = Sequential()\r\n",
        "\r\n",
        "# Add Embedding Layer and number of output is 100 as we embedded with a 100D word2vec model\r\n",
        "Embed_layer = Embedding(input_dim= vocab_size, output_dim= 100, weights = [embedding_matrix], input_length= (MAX_SEQ_LEN,), trainable = True )\r\n",
        "\r\n",
        "# define inputs\r\n",
        "review_input = Input(shape=(MAX_SEQ_LEN,), dtype='int32', name = 'review_input')\r\n",
        "review_embedding = Embed_layer(review_input)\r\n",
        "Flatten_layer = Flatten()\r\n",
        "Flatten_review = Flatten_layer(review_embedding)\r\n",
        "output_size = 3\r\n",
        "\r\n",
        "dense1 = Dense(100, activation='relu')(Flatten_review)\r\n",
        "dense2 = Dense(32, activation='relu')(dense1)\r\n",
        "predict = Dense(output_size, activation='softmax')(dense2)\r\n",
        "\r\n",
        "\r\n",
        "model1 = Model(inputs = [review_input], outputs= [predict])\r\n",
        "model1.compile(loss=\"categorical_crossentropy\",\r\n",
        "                 optimizer=\"adam\",\r\n",
        "                 metrics=[\"categorical_accuracy\"])\r\n",
        "\r\n",
        "print(model1.summary())\r\n",
        "\r\n",
        "SVG(model_to_dot(model1).create(prog= 'dot', format ='svg'))\r\n",
        "\r\n"
      ],
      "execution_count": 41,
      "outputs": [
        {
          "output_type": "stream",
          "text": [
            "Model: \"model_1\"\n",
            "_________________________________________________________________\n",
            "Layer (type)                 Output Shape              Param #   \n",
            "=================================================================\n",
            "review_input (InputLayer)    [(None, 100)]             0         \n",
            "_________________________________________________________________\n",
            "embedding_1 (Embedding)      (None, 100, 100)          1185100   \n",
            "_________________________________________________________________\n",
            "flatten_1 (Flatten)          (None, 10000)             0         \n",
            "_________________________________________________________________\n",
            "dense_3 (Dense)              (None, 100)               1000100   \n",
            "_________________________________________________________________\n",
            "dense_4 (Dense)              (None, 32)                3232      \n",
            "_________________________________________________________________\n",
            "dense_5 (Dense)              (None, 3)                 99        \n",
            "=================================================================\n",
            "Total params: 2,188,531\n",
            "Trainable params: 2,188,531\n",
            "Non-trainable params: 0\n",
            "_________________________________________________________________\n",
            "None\n"
          ],
          "name": "stdout"
        },
        {
          "output_type": "execute_result",
          "data": {
            "text/plain": [
              "<IPython.core.display.SVG object>"
            ],
            "image/svg+xml": "<svg height=\"547pt\" viewBox=\"0.00 0.00 179.00 410.00\" width=\"239pt\" xmlns=\"http://www.w3.org/2000/svg\" xmlns:xlink=\"http://www.w3.org/1999/xlink\">\n<g class=\"graph\" id=\"graph0\" transform=\"scale(1.3333 1.3333) rotate(0) translate(4 406)\">\n<title>G</title>\n<polygon fill=\"#ffffff\" points=\"-4,4 -4,-406 175,-406 175,4 -4,4\" stroke=\"transparent\"/>\n<!-- 139716875648248 -->\n<g class=\"node\" id=\"node1\">\n<title>139716875648248</title>\n<polygon fill=\"none\" points=\"3.5,-365.5 3.5,-401.5 167.5,-401.5 167.5,-365.5 3.5,-365.5\" stroke=\"#000000\"/>\n<text fill=\"#000000\" font-family=\"Times,serif\" font-size=\"14.00\" text-anchor=\"middle\" x=\"85.5\" y=\"-379.8\">review_input: InputLayer</text>\n</g>\n<!-- 139716875669456 -->\n<g class=\"node\" id=\"node2\">\n<title>139716875669456</title>\n<polygon fill=\"none\" points=\"0,-292.5 0,-328.5 171,-328.5 171,-292.5 0,-292.5\" stroke=\"#000000\"/>\n<text fill=\"#000000\" font-family=\"Times,serif\" font-size=\"14.00\" text-anchor=\"middle\" x=\"85.5\" y=\"-306.8\">embedding_1: Embedding</text>\n</g>\n<!-- 139716875648248&#45;&gt;139716875669456 -->\n<g class=\"edge\" id=\"edge1\">\n<title>139716875648248-&gt;139716875669456</title>\n<path d=\"M85.5,-365.4551C85.5,-357.3828 85.5,-347.6764 85.5,-338.6817\" fill=\"none\" stroke=\"#000000\"/>\n<polygon fill=\"#000000\" points=\"89.0001,-338.5903 85.5,-328.5904 82.0001,-338.5904 89.0001,-338.5903\" stroke=\"#000000\"/>\n</g>\n<!-- 139716941794048 -->\n<g class=\"node\" id=\"node3\">\n<title>139716941794048</title>\n<polygon fill=\"none\" points=\"29,-219.5 29,-255.5 142,-255.5 142,-219.5 29,-219.5\" stroke=\"#000000\"/>\n<text fill=\"#000000\" font-family=\"Times,serif\" font-size=\"14.00\" text-anchor=\"middle\" x=\"85.5\" y=\"-233.8\">flatten_1: Flatten</text>\n</g>\n<!-- 139716875669456&#45;&gt;139716941794048 -->\n<g class=\"edge\" id=\"edge2\">\n<title>139716875669456-&gt;139716941794048</title>\n<path d=\"M85.5,-292.4551C85.5,-284.3828 85.5,-274.6764 85.5,-265.6817\" fill=\"none\" stroke=\"#000000\"/>\n<polygon fill=\"#000000\" points=\"89.0001,-265.5903 85.5,-255.5904 82.0001,-265.5904 89.0001,-265.5903\" stroke=\"#000000\"/>\n</g>\n<!-- 139716941801064 -->\n<g class=\"node\" id=\"node4\">\n<title>139716941801064</title>\n<polygon fill=\"none\" points=\"32,-146.5 32,-182.5 139,-182.5 139,-146.5 32,-146.5\" stroke=\"#000000\"/>\n<text fill=\"#000000\" font-family=\"Times,serif\" font-size=\"14.00\" text-anchor=\"middle\" x=\"85.5\" y=\"-160.8\">dense_3: Dense</text>\n</g>\n<!-- 139716941794048&#45;&gt;139716941801064 -->\n<g class=\"edge\" id=\"edge3\">\n<title>139716941794048-&gt;139716941801064</title>\n<path d=\"M85.5,-219.4551C85.5,-211.3828 85.5,-201.6764 85.5,-192.6817\" fill=\"none\" stroke=\"#000000\"/>\n<polygon fill=\"#000000\" points=\"89.0001,-192.5903 85.5,-182.5904 82.0001,-192.5904 89.0001,-192.5903\" stroke=\"#000000\"/>\n</g>\n<!-- 139716941792872 -->\n<g class=\"node\" id=\"node5\">\n<title>139716941792872</title>\n<polygon fill=\"none\" points=\"32,-73.5 32,-109.5 139,-109.5 139,-73.5 32,-73.5\" stroke=\"#000000\"/>\n<text fill=\"#000000\" font-family=\"Times,serif\" font-size=\"14.00\" text-anchor=\"middle\" x=\"85.5\" y=\"-87.8\">dense_4: Dense</text>\n</g>\n<!-- 139716941801064&#45;&gt;139716941792872 -->\n<g class=\"edge\" id=\"edge4\">\n<title>139716941801064-&gt;139716941792872</title>\n<path d=\"M85.5,-146.4551C85.5,-138.3828 85.5,-128.6764 85.5,-119.6817\" fill=\"none\" stroke=\"#000000\"/>\n<polygon fill=\"#000000\" points=\"89.0001,-119.5903 85.5,-109.5904 82.0001,-119.5904 89.0001,-119.5903\" stroke=\"#000000\"/>\n</g>\n<!-- 139716866811104 -->\n<g class=\"node\" id=\"node6\">\n<title>139716866811104</title>\n<polygon fill=\"none\" points=\"32,-.5 32,-36.5 139,-36.5 139,-.5 32,-.5\" stroke=\"#000000\"/>\n<text fill=\"#000000\" font-family=\"Times,serif\" font-size=\"14.00\" text-anchor=\"middle\" x=\"85.5\" y=\"-14.8\">dense_5: Dense</text>\n</g>\n<!-- 139716941792872&#45;&gt;139716866811104 -->\n<g class=\"edge\" id=\"edge5\">\n<title>139716941792872-&gt;139716866811104</title>\n<path d=\"M85.5,-73.4551C85.5,-65.3828 85.5,-55.6764 85.5,-46.6817\" fill=\"none\" stroke=\"#000000\"/>\n<polygon fill=\"#000000\" points=\"89.0001,-46.5903 85.5,-36.5904 82.0001,-46.5904 89.0001,-46.5903\" stroke=\"#000000\"/>\n</g>\n</g>\n</svg>"
          },
          "metadata": {
            "tags": []
          },
          "execution_count": 41
        }
      ]
    },
    {
      "cell_type": "code",
      "metadata": {
        "colab": {
          "base_uri": "https://localhost:8080/"
        },
        "id": "AuPl3QoHgVCC",
        "outputId": "66a0f05c-50dd-4092-cadd-0b5f96f95bb1"
      },
      "source": [
        "# Train the model for smotek\r\n",
        "#model1.fit(X_train_sm,y_train_sm, epochs = 10, batch_size = 2**5, verbose = True, validation_data = (X_test_sm,y_test_sm))\r\n",
        "\r\n",
        "# Random oversampling model\r\n",
        "model1.fit(X_train_os,y_train_os, epochs = 5, batch_size = 2**5, verbose = True, validation_data = (X_test_os,y_test_os))\r\n",
        "\r\n",
        "# train the near miss sampled NN\r\n",
        "#model1.fit(X_train_ns,y_train_ns, epochs = 5, batch_size = 2**5, verbose = True, validation_data = (X_test_ns,y_test_ns))"
      ],
      "execution_count": 42,
      "outputs": [
        {
          "output_type": "stream",
          "text": [
            "Epoch 1/5\n",
            "689/689 [==============================] - 12s 17ms/step - loss: 0.7771 - categorical_accuracy: 0.6531 - val_loss: 0.5304 - val_categorical_accuracy: 0.7899\n",
            "Epoch 2/5\n",
            "689/689 [==============================] - 11s 17ms/step - loss: 0.4138 - categorical_accuracy: 0.8437 - val_loss: 0.4123 - val_categorical_accuracy: 0.8491\n",
            "Epoch 3/5\n",
            "689/689 [==============================] - 11s 17ms/step - loss: 0.2619 - categorical_accuracy: 0.9048 - val_loss: 0.3499 - val_categorical_accuracy: 0.8807\n",
            "Epoch 4/5\n",
            "689/689 [==============================] - 11s 16ms/step - loss: 0.1726 - categorical_accuracy: 0.9396 - val_loss: 0.3450 - val_categorical_accuracy: 0.8981\n",
            "Epoch 5/5\n",
            "689/689 [==============================] - 11s 17ms/step - loss: 0.1278 - categorical_accuracy: 0.9540 - val_loss: 0.3651 - val_categorical_accuracy: 0.9001\n"
          ],
          "name": "stdout"
        },
        {
          "output_type": "execute_result",
          "data": {
            "text/plain": [
              "<tensorflow.python.keras.callbacks.History at 0x7f125ebb2630>"
            ]
          },
          "metadata": {
            "tags": []
          },
          "execution_count": 42
        }
      ]
    },
    {
      "cell_type": "code",
      "metadata": {
        "id": "xkkb0aJdoJkI",
        "colab": {
          "base_uri": "https://localhost:8080/"
        },
        "outputId": "d732d013-0f34-4990-8dd5-73976a2e9792"
      },
      "source": [
        "# Save model\r\n",
        "#model1.save('Glove_5epochs_NN_SM') # SAVE RANDOM OVER SAMPLING MODEL\r\n",
        "\r\n",
        "model1.save('Glove_5epochs_NN_ROS') # SAVE RANDOM OVER SAMPLING MODEL\r\n",
        "\r\n",
        "#model1.save('Glove_5epochs_NN_NS') # SAVE NEAR MISS NN MODEL\r\n"
      ],
      "execution_count": 43,
      "outputs": [
        {
          "output_type": "stream",
          "text": [
            "INFO:tensorflow:Assets written to: Glove_5epochs_NN_ROS/assets\n"
          ],
          "name": "stdout"
        }
      ]
    }
  ]
}