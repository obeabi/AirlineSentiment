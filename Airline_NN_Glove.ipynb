{
  "nbformat": 4,
  "nbformat_minor": 0,
  "metadata": {
    "colab": {
      "name": "Airline_NN_Glove.ipynb",
      "provenance": [],
      "toc_visible": true,
      "authorship_tag": "ABX9TyNnB43EHRN1HkRlUOfGSgJk",
      "include_colab_link": true
    },
    "kernelspec": {
      "name": "python3",
      "display_name": "Python 3"
    }
  },
  "cells": [
    {
      "cell_type": "markdown",
      "metadata": {
        "id": "view-in-github",
        "colab_type": "text"
      },
      "source": [
        "<a href=\"https://colab.research.google.com/github/obeabi/AirlineSentiment/blob/main/Airline_NN_Glove.ipynb\" target=\"_parent\"><img src=\"https://colab.research.google.com/assets/colab-badge.svg\" alt=\"Open In Colab\"/></a>"
      ]
    },
    {
      "cell_type": "markdown",
      "metadata": {
        "id": "VJMaZXt8yoE-"
      },
      "source": [
        "# Airline Sentiment Dataset\r\n",
        "## Written by Abiola Obembe\r\n",
        "### Date: 2020-12-24\r\n",
        "\r\n",
        "### Goal: Train a classifiier to predict customer sentiment from customer review text (using NN and pretrained word embeddings i.e. glove)\r\n"
      ]
    },
    {
      "cell_type": "markdown",
      "metadata": {
        "id": "YqeNHhjp25v_"
      },
      "source": [
        "A sentiment analysis job about the problems of each major U.S. airline. Twitter data was scraped from February of 2015 and contributors were asked to first classify positive, negative, and neutral tweets, followed by categorizing negative reasons (such as \"late flight\" or \"rude service\")."
      ]
    },
    {
      "cell_type": "markdown",
      "metadata": {
        "id": "LiwXn9d50qi6"
      },
      "source": [
        "## Step 1: Data Cleaning and Preprocessing"
      ]
    },
    {
      "cell_type": "code",
      "metadata": {
        "colab": {
          "base_uri": "https://localhost:8080/"
        },
        "id": "QCi0HP5szMY8",
        "outputId": "7a55a8d1-3357-4443-99c3-3a156a52abb6"
      },
      "source": [
        "# install libraries\r\n",
        "import pandas as pd\r\n",
        "import numpy as np\r\n",
        "import matplotlib.pyplot as plt\r\n",
        "\r\n",
        "%matplotlib inline\r\n",
        "plt.rcParams['figure.figsize'] = (18.0, 12.0) # set default size of plots\r\n",
        "plt.rcParams['image.interpolation'] = 'nearest'\r\n",
        "plt.rcParams['image.cmap'] = 'gray'\r\n",
        "\r\n",
        "\r\n",
        "print(\"installation complete!\")\r\n"
      ],
      "execution_count": 4,
      "outputs": [
        {
          "output_type": "stream",
          "text": [
            "installation complete!\n"
          ],
          "name": "stdout"
        }
      ]
    },
    {
      "cell_type": "code",
      "metadata": {
        "colab": {
          "base_uri": "https://localhost:8080/",
          "height": 434
        },
        "id": "Ru8XNKar0pGE",
        "outputId": "5abebd42-d70f-4f2f-c64a-c0acf0ab5374"
      },
      "source": [
        "# Import dataset\r\n",
        "dataset = pd.read_csv('Tweets.csv', encoding= 'latin1', engine='python', quoting = 1)\r\n",
        "\r\n",
        "dataset.head()"
      ],
      "execution_count": 5,
      "outputs": [
        {
          "output_type": "execute_result",
          "data": {
            "text/html": [
              "<div>\n",
              "<style scoped>\n",
              "    .dataframe tbody tr th:only-of-type {\n",
              "        vertical-align: middle;\n",
              "    }\n",
              "\n",
              "    .dataframe tbody tr th {\n",
              "        vertical-align: top;\n",
              "    }\n",
              "\n",
              "    .dataframe thead th {\n",
              "        text-align: right;\n",
              "    }\n",
              "</style>\n",
              "<table border=\"1\" class=\"dataframe\">\n",
              "  <thead>\n",
              "    <tr style=\"text-align: right;\">\n",
              "      <th></th>\n",
              "      <th>tweet_id</th>\n",
              "      <th>airline_sentiment</th>\n",
              "      <th>airline_sentiment_confidence</th>\n",
              "      <th>negativereason</th>\n",
              "      <th>negativereason_confidence</th>\n",
              "      <th>airline</th>\n",
              "      <th>airline_sentiment_gold</th>\n",
              "      <th>name</th>\n",
              "      <th>negativereason_gold</th>\n",
              "      <th>retweet_count</th>\n",
              "      <th>text</th>\n",
              "      <th>tweet_coord</th>\n",
              "      <th>tweet_created</th>\n",
              "      <th>tweet_location</th>\n",
              "      <th>user_timezone</th>\n",
              "    </tr>\n",
              "  </thead>\n",
              "  <tbody>\n",
              "    <tr>\n",
              "      <th>0</th>\n",
              "      <td>570306133677760513</td>\n",
              "      <td>neutral</td>\n",
              "      <td>1.0000</td>\n",
              "      <td>NaN</td>\n",
              "      <td>NaN</td>\n",
              "      <td>Virgin America</td>\n",
              "      <td>NaN</td>\n",
              "      <td>cairdin</td>\n",
              "      <td>NaN</td>\n",
              "      <td>0</td>\n",
              "      <td>@VirginAmerica What @dhepburn said.</td>\n",
              "      <td>NaN</td>\n",
              "      <td>2015-02-24 11:35:52 -0800</td>\n",
              "      <td>NaN</td>\n",
              "      <td>Eastern Time (US &amp; Canada)</td>\n",
              "    </tr>\n",
              "    <tr>\n",
              "      <th>1</th>\n",
              "      <td>570301130888122368</td>\n",
              "      <td>positive</td>\n",
              "      <td>0.3486</td>\n",
              "      <td>NaN</td>\n",
              "      <td>0.0000</td>\n",
              "      <td>Virgin America</td>\n",
              "      <td>NaN</td>\n",
              "      <td>jnardino</td>\n",
              "      <td>NaN</td>\n",
              "      <td>0</td>\n",
              "      <td>@VirginAmerica plus you've added commercials t...</td>\n",
              "      <td>NaN</td>\n",
              "      <td>2015-02-24 11:15:59 -0800</td>\n",
              "      <td>NaN</td>\n",
              "      <td>Pacific Time (US &amp; Canada)</td>\n",
              "    </tr>\n",
              "    <tr>\n",
              "      <th>2</th>\n",
              "      <td>570301083672813571</td>\n",
              "      <td>neutral</td>\n",
              "      <td>0.6837</td>\n",
              "      <td>NaN</td>\n",
              "      <td>NaN</td>\n",
              "      <td>Virgin America</td>\n",
              "      <td>NaN</td>\n",
              "      <td>yvonnalynn</td>\n",
              "      <td>NaN</td>\n",
              "      <td>0</td>\n",
              "      <td>@VirginAmerica I didn't today... Must mean I n...</td>\n",
              "      <td>NaN</td>\n",
              "      <td>2015-02-24 11:15:48 -0800</td>\n",
              "      <td>Lets Play</td>\n",
              "      <td>Central Time (US &amp; Canada)</td>\n",
              "    </tr>\n",
              "    <tr>\n",
              "      <th>3</th>\n",
              "      <td>570301031407624196</td>\n",
              "      <td>negative</td>\n",
              "      <td>1.0000</td>\n",
              "      <td>Bad Flight</td>\n",
              "      <td>0.7033</td>\n",
              "      <td>Virgin America</td>\n",
              "      <td>NaN</td>\n",
              "      <td>jnardino</td>\n",
              "      <td>NaN</td>\n",
              "      <td>0</td>\n",
              "      <td>@VirginAmerica it's really aggressive to blast...</td>\n",
              "      <td>NaN</td>\n",
              "      <td>2015-02-24 11:15:36 -0800</td>\n",
              "      <td>NaN</td>\n",
              "      <td>Pacific Time (US &amp; Canada)</td>\n",
              "    </tr>\n",
              "    <tr>\n",
              "      <th>4</th>\n",
              "      <td>570300817074462722</td>\n",
              "      <td>negative</td>\n",
              "      <td>1.0000</td>\n",
              "      <td>Can't Tell</td>\n",
              "      <td>1.0000</td>\n",
              "      <td>Virgin America</td>\n",
              "      <td>NaN</td>\n",
              "      <td>jnardino</td>\n",
              "      <td>NaN</td>\n",
              "      <td>0</td>\n",
              "      <td>@VirginAmerica and it's a really big bad thing...</td>\n",
              "      <td>NaN</td>\n",
              "      <td>2015-02-24 11:14:45 -0800</td>\n",
              "      <td>NaN</td>\n",
              "      <td>Pacific Time (US &amp; Canada)</td>\n",
              "    </tr>\n",
              "  </tbody>\n",
              "</table>\n",
              "</div>"
            ],
            "text/plain": [
              "             tweet_id  ...               user_timezone\n",
              "0  570306133677760513  ...  Eastern Time (US & Canada)\n",
              "1  570301130888122368  ...  Pacific Time (US & Canada)\n",
              "2  570301083672813571  ...  Central Time (US & Canada)\n",
              "3  570301031407624196  ...  Pacific Time (US & Canada)\n",
              "4  570300817074462722  ...  Pacific Time (US & Canada)\n",
              "\n",
              "[5 rows x 15 columns]"
            ]
          },
          "metadata": {
            "tags": []
          },
          "execution_count": 5
        }
      ]
    },
    {
      "cell_type": "code",
      "metadata": {
        "colab": {
          "base_uri": "https://localhost:8080/",
          "height": 343
        },
        "id": "ZXcBWVgA2_co",
        "outputId": "abb6e4a8-ad90-4505-cdd1-2c8fcce3326e"
      },
      "source": [
        "# Drop columns not required\r\n",
        "dataset.drop(columns = ['tweet_id', 'airline_sentiment_confidence', 'negativereason', 'negativereason_confidence',\r\n",
        "                        'airline', 'airline_sentiment_gold','name','negativereason_gold','retweet_count','tweet_coord',\r\n",
        "                        'tweet_created','tweet_location','user_timezone'], axis = 1, inplace = True)\r\n",
        "dataset.head(10)"
      ],
      "execution_count": 6,
      "outputs": [
        {
          "output_type": "execute_result",
          "data": {
            "text/html": [
              "<div>\n",
              "<style scoped>\n",
              "    .dataframe tbody tr th:only-of-type {\n",
              "        vertical-align: middle;\n",
              "    }\n",
              "\n",
              "    .dataframe tbody tr th {\n",
              "        vertical-align: top;\n",
              "    }\n",
              "\n",
              "    .dataframe thead th {\n",
              "        text-align: right;\n",
              "    }\n",
              "</style>\n",
              "<table border=\"1\" class=\"dataframe\">\n",
              "  <thead>\n",
              "    <tr style=\"text-align: right;\">\n",
              "      <th></th>\n",
              "      <th>airline_sentiment</th>\n",
              "      <th>text</th>\n",
              "    </tr>\n",
              "  </thead>\n",
              "  <tbody>\n",
              "    <tr>\n",
              "      <th>0</th>\n",
              "      <td>neutral</td>\n",
              "      <td>@VirginAmerica What @dhepburn said.</td>\n",
              "    </tr>\n",
              "    <tr>\n",
              "      <th>1</th>\n",
              "      <td>positive</td>\n",
              "      <td>@VirginAmerica plus you've added commercials t...</td>\n",
              "    </tr>\n",
              "    <tr>\n",
              "      <th>2</th>\n",
              "      <td>neutral</td>\n",
              "      <td>@VirginAmerica I didn't today... Must mean I n...</td>\n",
              "    </tr>\n",
              "    <tr>\n",
              "      <th>3</th>\n",
              "      <td>negative</td>\n",
              "      <td>@VirginAmerica it's really aggressive to blast...</td>\n",
              "    </tr>\n",
              "    <tr>\n",
              "      <th>4</th>\n",
              "      <td>negative</td>\n",
              "      <td>@VirginAmerica and it's a really big bad thing...</td>\n",
              "    </tr>\n",
              "    <tr>\n",
              "      <th>5</th>\n",
              "      <td>negative</td>\n",
              "      <td>@VirginAmerica seriously would pay $30 a fligh...</td>\n",
              "    </tr>\n",
              "    <tr>\n",
              "      <th>6</th>\n",
              "      <td>positive</td>\n",
              "      <td>@VirginAmerica yes, nearly every time I fly VX...</td>\n",
              "    </tr>\n",
              "    <tr>\n",
              "      <th>7</th>\n",
              "      <td>neutral</td>\n",
              "      <td>@VirginAmerica Really missed a prime opportuni...</td>\n",
              "    </tr>\n",
              "    <tr>\n",
              "      <th>8</th>\n",
              "      <td>positive</td>\n",
              "      <td>@virginamerica Well, I didn'tâ¦but NOW I DO! :-D</td>\n",
              "    </tr>\n",
              "    <tr>\n",
              "      <th>9</th>\n",
              "      <td>positive</td>\n",
              "      <td>@VirginAmerica it was amazing, and arrived an ...</td>\n",
              "    </tr>\n",
              "  </tbody>\n",
              "</table>\n",
              "</div>"
            ],
            "text/plain": [
              "  airline_sentiment                                               text\n",
              "0           neutral                @VirginAmerica What @dhepburn said.\n",
              "1          positive  @VirginAmerica plus you've added commercials t...\n",
              "2           neutral  @VirginAmerica I didn't today... Must mean I n...\n",
              "3          negative  @VirginAmerica it's really aggressive to blast...\n",
              "4          negative  @VirginAmerica and it's a really big bad thing...\n",
              "5          negative  @VirginAmerica seriously would pay $30 a fligh...\n",
              "6          positive  @VirginAmerica yes, nearly every time I fly VX...\n",
              "7           neutral  @VirginAmerica Really missed a prime opportuni...\n",
              "8          positive  @virginamerica Well, I didn'tâ¦but NOW I DO! :-D\n",
              "9          positive  @VirginAmerica it was amazing, and arrived an ..."
            ]
          },
          "metadata": {
            "tags": []
          },
          "execution_count": 6
        }
      ]
    },
    {
      "cell_type": "code",
      "metadata": {
        "colab": {
          "base_uri": "https://localhost:8080/"
        },
        "id": "ghh1CI-p4MSM",
        "outputId": "4eab8a1a-5586-4d00-8ef2-172d5ad48582"
      },
      "source": [
        "#  Investigate the number of distinct sentiments\r\n",
        "dataset['airline_sentiment'].value_counts()"
      ],
      "execution_count": 7,
      "outputs": [
        {
          "output_type": "execute_result",
          "data": {
            "text/plain": [
              "negative    9178\n",
              "neutral     3099\n",
              "positive    2363\n",
              "Name: airline_sentiment, dtype: int64"
            ]
          },
          "metadata": {
            "tags": []
          },
          "execution_count": 7
        }
      ]
    },
    {
      "cell_type": "code",
      "metadata": {
        "colab": {
          "base_uri": "https://localhost:8080/",
          "height": 730
        },
        "id": "G9xjlClf4Y8Y",
        "outputId": "7d8e38af-6c50-42b6-b2ff-86eb7dffdc3d"
      },
      "source": [
        "# Lets visualize the sentiments\r\n",
        "count_classes = pd.value_counts(dataset['airline_sentiment'], sort = True)\r\n",
        "count_classes.plot(kind = 'bar', rot = 0)\r\n",
        "plt.title(\"Customer Sentiment Distribution\")\r\n",
        "plt.xticks(range(3))\r\n",
        "plt.xlabel(\"Sentiment\")\r\n",
        "plt.ylabel('Frequency')\r\n",
        "plt.show()"
      ],
      "execution_count": 8,
      "outputs": [
        {
          "output_type": "display_data",
          "data": {
            "image/png": "[encoded data removed]",
            "text/plain": [
              "<Figure size 1296x864 with 1 Axes>"
            ]
          },
          "metadata": {
            "tags": [],
            "needs_background": "light"
          }
        }
      ]
    },
    {
      "cell_type": "code",
      "metadata": {
        "colab": {
          "base_uri": "https://localhost:8080/"
        },
        "id": "tjZdgHY45JHr",
        "outputId": "354edb14-b92f-4ae4-a1ee-3e1f56b93683"
      },
      "source": [
        "# Let us check for missing values in both columns\r\n",
        "print(dataset.isnull().sum())\r\n",
        "\r\n",
        "missing_values = dataset.isnull().sum().sum()\r\n",
        "print('The total number of missing values in the dataframe is' , str(missing_values))"
      ],
      "execution_count": 9,
      "outputs": [
        {
          "output_type": "stream",
          "text": [
            "airline_sentiment    0\n",
            "text                 0\n",
            "dtype: int64\n",
            "The total number of missing values in the dataframe is 0\n"
          ],
          "name": "stdout"
        }
      ]
    },
    {
      "cell_type": "code",
      "metadata": {
        "colab": {
          "base_uri": "https://localhost:8080/"
        },
        "id": "vRkYlsNM6nzN",
        "outputId": "195a66e6-613f-4e7d-b325-6d43b7b28442"
      },
      "source": [
        "## Data Cleaning\r\n",
        "\r\n",
        "import re\r\n",
        "import nltk\r\n",
        "nltk.download('stopwords')\r\n",
        "nltk.download('wordnet')\r\n",
        "from nltk.corpus import stopwords\r\n",
        "from nltk.stem import WordNetLemmatizer\r\n",
        "corpus = []\r\n",
        "\r\n",
        "\r\n",
        "\r\n",
        "\r\n",
        "for i in range(0,dataset.shape[0]):\r\n",
        "  reviews = re.sub(r\"@[A-Za-z0-9]+\", ' ', dataset['text'][i])\r\n",
        "  reviews = re.sub(r'[^a-zA-Z]', ' ',reviews)\r\n",
        "  # Removing additional whitespaces\r\n",
        "  reviews = re.sub(r\" +\", ' ', reviews)\r\n",
        "  reviews = reviews.lower()\r\n",
        "  reviews = reviews.split()\r\n",
        "  wl = WordNetLemmatizer()\r\n",
        "  review = [wl.lemmatize(word) for word in reviews if not word in set(stopwords.words('english'))]\r\n",
        "  review = ' '.join(review) \r\n",
        "  corpus.append(review)\r\n",
        " \r\n",
        "\r\n",
        "\r\n"
      ],
      "execution_count": 10,
      "outputs": [
        {
          "output_type": "stream",
          "text": [
            "[nltk_data] Downloading package stopwords to /root/nltk_data...\n",
            "[nltk_data]   Package stopwords is already up-to-date!\n",
            "[nltk_data] Downloading package wordnet to /root/nltk_data...\n",
            "[nltk_data]   Package wordnet is already up-to-date!\n"
          ],
          "name": "stdout"
        }
      ]
    },
    {
      "cell_type": "code",
      "metadata": {
        "colab": {
          "base_uri": "https://localhost:8080/"
        },
        "id": "rbBAOaXfB80t",
        "outputId": "69266384-b09e-4d0d-8ced-f13af14c113c"
      },
      "source": [
        "# Install tensorflow\r\n",
        "try:\r\n",
        "    %tensorflow_version 2.x\r\n",
        "except Exception:\r\n",
        "    pass\r\n",
        "import tensorflow as tf\r\n",
        "\r\n",
        "from tensorflow.keras import layers\r\n",
        "import tensorflow_datasets as tfds\r\n",
        "print(\"Tensorflow version  :\", tf.__version__)"
      ],
      "execution_count": 11,
      "outputs": [
        {
          "output_type": "stream",
          "text": [
            "Tensorflow version  : 2.4.0\n"
          ],
          "name": "stdout"
        }
      ]
    },
    {
      "cell_type": "markdown",
      "metadata": {
        "id": "LP0OSKBoCvpd"
      },
      "source": [
        "## STEP 2: Tokenization and Padding"
      ]
    },
    {
      "cell_type": "code",
      "metadata": {
        "colab": {
          "base_uri": "https://localhost:8080/"
        },
        "id": "ADJtsjBvRrf2",
        "outputId": "91d4876c-9d2b-445d-9455-87358d22220a"
      },
      "source": [
        "# import libraries\r\n",
        "from keras.preprocessing.text import Tokenizer\r\n",
        "from keras.preprocessing.sequence import pad_sequences\r\n",
        "\r\n",
        "#\r\n",
        "NB_words = 2**10\r\n",
        "MAX_SEQ_LEN = 100   \r\n",
        "tokenizer = Tokenizer(nb_words = NB_words)\r\n",
        "tokenizer.fit_on_texts(corpus)\r\n",
        "sequences = tokenizer.texts_to_sequences(corpus)\r\n",
        "word_index = tokenizer.word_index \r\n",
        "\r\n",
        "print(\"Found unique tokens\", len(word_index))\r\n",
        "\r\n",
        "data = pad_sequences(sequences, value=0, padding=\"post\", maxlen=MAX_SEQ_LEN)\r\n"
      ],
      "execution_count": 12,
      "outputs": [
        {
          "output_type": "stream",
          "text": [
            "/usr/local/lib/python3.6/dist-packages/keras_preprocessing/text.py:180: UserWarning: The `nb_words` argument in `Tokenizer` has been renamed `num_words`.\n",
            "  warnings.warn('The `nb_words` argument in `Tokenizer` '\n"
          ],
          "name": "stderr"
        },
        {
          "output_type": "stream",
          "text": [
            "Found unique tokens 11850\n"
          ],
          "name": "stdout"
        }
      ]
    },
    {
      "cell_type": "code",
      "metadata": {
        "colab": {
          "base_uri": "https://localhost:8080/"
        },
        "id": "Q7qappxRV5AW",
        "outputId": "390682e7-3cfd-43a2-ab81-398df20668de"
      },
      "source": [
        "# Let us encode the labels into integers \r\n",
        "from sklearn import preprocessing \r\n",
        "  \r\n",
        "# label_encoder \r\n",
        "label_encoder = preprocessing.LabelEncoder() \r\n",
        "  \r\n",
        "# Encode labels in column 'species'. \r\n",
        "dataset['airline_sentiment']= label_encoder.fit_transform(dataset['airline_sentiment']) \r\n",
        "  \r\n",
        "dataset['airline_sentiment'].unique() "
      ],
      "execution_count": 13,
      "outputs": [
        {
          "output_type": "execute_result",
          "data": {
            "text/plain": [
              "array([1, 2, 0])"
            ]
          },
          "metadata": {
            "tags": []
          },
          "execution_count": 13
        }
      ]
    },
    {
      "cell_type": "code",
      "metadata": {
        "colab": {
          "base_uri": "https://localhost:8080/"
        },
        "id": "RbpYHINeUyKD",
        "outputId": "a16a1af5-64b2-4857-940e-46ed7073af31"
      },
      "source": [
        "# Split into train and validation/test set\r\n",
        "y = dataset['airline_sentiment'].values\r\n",
        "\r\n",
        "from keras.utils import  to_categorical\r\n",
        "y = to_categorical(np.asarray(y))\r\n",
        "\r\n",
        "from sklearn.model_selection import train_test_split\r\n",
        "\r\n",
        "X_train, X_test, y_train, y_test = train_test_split( data, y, test_size=0.2, random_state=42)\r\n",
        "\r\n",
        "[nsample,nshape] = X_train.shape\r\n",
        "print(nsample)\r\n",
        "print(nshape)"
      ],
      "execution_count": 14,
      "outputs": [
        {
          "output_type": "stream",
          "text": [
            "11712\n",
            "100\n"
          ],
          "name": "stdout"
        }
      ]
    },
    {
      "cell_type": "markdown",
      "metadata": {
        "id": "HNtx7M0ilNDl"
      },
      "source": [
        "### Obtain Word2Vec Embdedding Matrix"
      ]
    },
    {
      "cell_type": "markdown",
      "metadata": {
        "id": "htvMcdQAlUq0"
      },
      "source": [
        "### Obtain Glove Embedding Matrix"
      ]
    },
    {
      "cell_type": "code",
      "metadata": {
        "id": "ZO0GeRIykMsQ",
        "outputId": "1b7b48cb-f477-4134-fac3-71d7d515d807",
        "colab": {
          "base_uri": "https://localhost:8080/"
        }
      },
      "source": [
        "# load the whole embedding into memory\r\n",
        "embeddings_index = dict()\r\n",
        "\r\n",
        "f = open('./glove.6B.100d.txt')\r\n",
        "for line in f:\r\n",
        "  values = line.split()\r\n",
        "  word = values[0]\r\n",
        "  coefs = np.asarray(values[1:], dtype = 'float32')\r\n",
        "  embeddings_index[word] = coefs\r\n",
        "f.close()\r\n",
        "\r\n",
        "\r\n",
        "print(\"Loaded word vectors\", len(embeddings_index))\r\n",
        "\r\n",
        "vocab = tokenizer.sequences_to_texts(corpus)\r\n",
        "# adding one because of 0 reservded index\r\n",
        "vocab_size = len(tokenizer.word_index) + 1\r\n",
        "\r\n",
        "print(vocab_size)\r\n"
      ],
      "execution_count": 15,
      "outputs": [
        {
          "output_type": "stream",
          "text": [
            "Loaded word vectors 400000\n",
            "11851\n"
          ],
          "name": "stdout"
        }
      ]
    },
    {
      "cell_type": "code",
      "metadata": {
        "id": "_HB6kJ_Sm9wg"
      },
      "source": [
        "# create a weight matrix for words in the training document\r\n",
        "embedding_matrix = np.zeros((vocab_size, 100))\r\n",
        "\r\n",
        "for word, i in tokenizer.word_index.items():\r\n",
        "    embedding_vector = embeddings_index.get(word)\r\n",
        "    if embedding_vector is not None:\r\n",
        "      embedding_matrix[i]= embedding_vector\r\n",
        "  "
      ],
      "execution_count": 16,
      "outputs": []
    },
    {
      "cell_type": "markdown",
      "metadata": {
        "id": "jGicKLKDbENK"
      },
      "source": [
        "## Step 3: Build and Train Model (Word2Vec)"
      ]
    },
    {
      "cell_type": "code",
      "metadata": {
        "colab": {
          "base_uri": "https://localhost:8080/"
        },
        "id": "iYoJAe5sbfHr",
        "outputId": "89b667c5-3a3c-40b6-86a9-77498c251ea0"
      },
      "source": [
        "# Import keras libraries\r\n",
        "from keras.models import Sequential, Model\r\n",
        "from keras.layers import Dense,Dropout,Activation\r\n",
        "from keras.layers import Input, Flatten, Embedding, concatenate\r\n",
        "from keras.layers.recurrent import LSTM\r\n",
        "from keras.layers.wrappers import Bidirectional\r\n",
        "from keras.utils import to_categorical\r\n",
        "\r\n",
        "from IPython.display import SVG\r\n",
        "from keras.utils.vis_utils import model_to_dot\r\n",
        "\r\n",
        "print(\"Installation sucessfull!\")"
      ],
      "execution_count": 17,
      "outputs": [
        {
          "output_type": "stream",
          "text": [
            "Installation sucessfull!\n"
          ],
          "name": "stdout"
        }
      ]
    },
    {
      "cell_type": "code",
      "metadata": {
        "colab": {
          "base_uri": "https://localhost:8080/",
          "height": 1000
        },
        "id": "-c9XT69AbIW1",
        "outputId": "6a48331f-310b-4629-9ebe-41cde9139692"
      },
      "source": [
        "# Build Seq2Seq architecture\r\n",
        "\r\n",
        "model1 = Sequential()\r\n",
        "\r\n",
        "# Add Embedding Layer and number of output is 100 as we embedded with a 100D word2vec model\r\n",
        "Embed_layer = Embedding(input_dim= vocab_size, output_dim= 100, weights = [embedding_matrix], input_length= (MAX_SEQ_LEN,), trainable = True )\r\n",
        "\r\n",
        "# define inputs\r\n",
        "review_input = Input(shape=(MAX_SEQ_LEN,), dtype='int32', name = 'review_input')\r\n",
        "review_embedding = Embed_layer(review_input)\r\n",
        "Flatten_layer = Flatten()\r\n",
        "Flatten_review = Flatten_layer(review_embedding)\r\n",
        "output_size = 3\r\n",
        "\r\n",
        "dense1 = Dense(100, activation='relu')(Flatten_review)\r\n",
        "dense2 = Dense(32, activation='relu')(dense1)\r\n",
        "predict = Dense(output_size, activation='softmax')(dense2)\r\n",
        "\r\n",
        "\r\n",
        "model1 = Model(inputs = [review_input], outputs= [predict])\r\n",
        "model1.compile(loss=\"categorical_crossentropy\",\r\n",
        "                 optimizer=\"adam\",\r\n",
        "                 metrics=[\"categorical_accuracy\"])\r\n",
        "\r\n",
        "print(model1.summary())\r\n",
        "\r\n",
        "SVG(model_to_dot(model1).create(prog= 'dot', format ='svg'))\r\n",
        "\r\n"
      ],
      "execution_count": 18,
      "outputs": [
        {
          "output_type": "stream",
          "text": [
            "Model: \"model\"\n",
            "_________________________________________________________________\n",
            "Layer (type)                 Output Shape              Param #   \n",
            "=================================================================\n",
            "review_input (InputLayer)    [(None, 100)]             0         \n",
            "_________________________________________________________________\n",
            "embedding (Embedding)        (None, 100, 100)          1185100   \n",
            "_________________________________________________________________\n",
            "flatten (Flatten)            (None, 10000)             0         \n",
            "_________________________________________________________________\n",
            "dense (Dense)                (None, 100)               1000100   \n",
            "_________________________________________________________________\n",
            "dense_1 (Dense)              (None, 32)                3232      \n",
            "_________________________________________________________________\n",
            "dense_2 (Dense)              (None, 3)                 99        \n",
            "=================================================================\n",
            "Total params: 2,188,531\n",
            "Trainable params: 2,188,531\n",
            "Non-trainable params: 0\n",
            "_________________________________________________________________\n",
            "None\n"
          ],
          "name": "stdout"
        },
        {
          "output_type": "execute_result",
          "data": {
            "text/plain": [
              "<IPython.core.display.SVG object>"
            ],
            "image/svg+xml": "<svg height=\"547pt\" viewBox=\"0.00 0.00 172.00 410.00\" width=\"229pt\" xmlns=\"http://www.w3.org/2000/svg\" xmlns:xlink=\"http://www.w3.org/1999/xlink\">\n<g class=\"graph\" id=\"graph0\" transform=\"scale(1.3333 1.3333) rotate(0) translate(4 406)\">\n<title>G</title>\n<polygon fill=\"#ffffff\" points=\"-4,4 -4,-406 168,-406 168,4 -4,4\" stroke=\"transparent\"/>\n<!-- 140481349014640 -->\n<g class=\"node\" id=\"node1\">\n<title>140481349014640</title>\n<polygon fill=\"none\" points=\"0,-365.5 0,-401.5 164,-401.5 164,-365.5 0,-365.5\" stroke=\"#000000\"/>\n<text fill=\"#000000\" font-family=\"Times,serif\" font-size=\"14.00\" text-anchor=\"middle\" x=\"82\" y=\"-379.8\">review_input: InputLayer</text>\n</g>\n<!-- 140481349013800 -->\n<g class=\"node\" id=\"node2\">\n<title>140481349013800</title>\n<polygon fill=\"none\" points=\"4,-292.5 4,-328.5 160,-328.5 160,-292.5 4,-292.5\" stroke=\"#000000\"/>\n<text fill=\"#000000\" font-family=\"Times,serif\" font-size=\"14.00\" text-anchor=\"middle\" x=\"82\" y=\"-306.8\">embedding: Embedding</text>\n</g>\n<!-- 140481349014640&#45;&gt;140481349013800 -->\n<g class=\"edge\" id=\"edge1\">\n<title>140481349014640-&gt;140481349013800</title>\n<path d=\"M82,-365.4551C82,-357.3828 82,-347.6764 82,-338.6817\" fill=\"none\" stroke=\"#000000\"/>\n<polygon fill=\"#000000\" points=\"85.5001,-338.5903 82,-328.5904 78.5001,-338.5904 85.5001,-338.5903\" stroke=\"#000000\"/>\n</g>\n<!-- 140481349017104 -->\n<g class=\"node\" id=\"node3\">\n<title>140481349017104</title>\n<polygon fill=\"none\" points=\"33,-219.5 33,-255.5 131,-255.5 131,-219.5 33,-219.5\" stroke=\"#000000\"/>\n<text fill=\"#000000\" font-family=\"Times,serif\" font-size=\"14.00\" text-anchor=\"middle\" x=\"82\" y=\"-233.8\">flatten: Flatten</text>\n</g>\n<!-- 140481349013800&#45;&gt;140481349017104 -->\n<g class=\"edge\" id=\"edge2\">\n<title>140481349013800-&gt;140481349017104</title>\n<path d=\"M82,-292.4551C82,-284.3828 82,-274.6764 82,-265.6817\" fill=\"none\" stroke=\"#000000\"/>\n<polygon fill=\"#000000\" points=\"85.5001,-265.5903 82,-255.5904 78.5001,-265.5904 85.5001,-265.5903\" stroke=\"#000000\"/>\n</g>\n<!-- 140481291333080 -->\n<g class=\"node\" id=\"node4\">\n<title>140481291333080</title>\n<polygon fill=\"none\" points=\"36,-146.5 36,-182.5 128,-182.5 128,-146.5 36,-146.5\" stroke=\"#000000\"/>\n<text fill=\"#000000\" font-family=\"Times,serif\" font-size=\"14.00\" text-anchor=\"middle\" x=\"82\" y=\"-160.8\">dense: Dense</text>\n</g>\n<!-- 140481349017104&#45;&gt;140481291333080 -->\n<g class=\"edge\" id=\"edge3\">\n<title>140481349017104-&gt;140481291333080</title>\n<path d=\"M82,-219.4551C82,-211.3828 82,-201.6764 82,-192.6817\" fill=\"none\" stroke=\"#000000\"/>\n<polygon fill=\"#000000\" points=\"85.5001,-192.5903 82,-182.5904 78.5001,-192.5904 85.5001,-192.5903\" stroke=\"#000000\"/>\n</g>\n<!-- 140481291329832 -->\n<g class=\"node\" id=\"node5\">\n<title>140481291329832</title>\n<polygon fill=\"none\" points=\"28.5,-73.5 28.5,-109.5 135.5,-109.5 135.5,-73.5 28.5,-73.5\" stroke=\"#000000\"/>\n<text fill=\"#000000\" font-family=\"Times,serif\" font-size=\"14.00\" text-anchor=\"middle\" x=\"82\" y=\"-87.8\">dense_1: Dense</text>\n</g>\n<!-- 140481291333080&#45;&gt;140481291329832 -->\n<g class=\"edge\" id=\"edge4\">\n<title>140481291333080-&gt;140481291329832</title>\n<path d=\"M82,-146.4551C82,-138.3828 82,-128.6764 82,-119.6817\" fill=\"none\" stroke=\"#000000\"/>\n<polygon fill=\"#000000\" points=\"85.5001,-119.5903 82,-109.5904 78.5001,-119.5904 85.5001,-119.5903\" stroke=\"#000000\"/>\n</g>\n<!-- 140481291333192 -->\n<g class=\"node\" id=\"node6\">\n<title>140481291333192</title>\n<polygon fill=\"none\" points=\"28.5,-.5 28.5,-36.5 135.5,-36.5 135.5,-.5 28.5,-.5\" stroke=\"#000000\"/>\n<text fill=\"#000000\" font-family=\"Times,serif\" font-size=\"14.00\" text-anchor=\"middle\" x=\"82\" y=\"-14.8\">dense_2: Dense</text>\n</g>\n<!-- 140481291329832&#45;&gt;140481291333192 -->\n<g class=\"edge\" id=\"edge5\">\n<title>140481291329832-&gt;140481291333192</title>\n<path d=\"M82,-73.4551C82,-65.3828 82,-55.6764 82,-46.6817\" fill=\"none\" stroke=\"#000000\"/>\n<polygon fill=\"#000000\" points=\"85.5001,-46.5903 82,-36.5904 78.5001,-46.5904 85.5001,-46.5903\" stroke=\"#000000\"/>\n</g>\n</g>\n</svg>"
          },
          "metadata": {
            "tags": []
          },
          "execution_count": 18
        }
      ]
    },
    {
      "cell_type": "code",
      "metadata": {
        "colab": {
          "base_uri": "https://localhost:8080/"
        },
        "id": "AuPl3QoHgVCC",
        "outputId": "a4521f80-cda3-4327-86b4-e45fe611e765"
      },
      "source": [
        "# Train the model\r\n",
        "model1.fit(X_train,y_train, epochs = 10, batch_size = 2**5, verbose = True, validation_data = (X_test,y_test))"
      ],
      "execution_count": 19,
      "outputs": [
        {
          "output_type": "stream",
          "text": [
            "Epoch 1/10\n",
            "366/366 [==============================] - 11s 27ms/step - loss: 0.7602 - categorical_accuracy: 0.6813 - val_loss: 0.5760 - val_categorical_accuracy: 0.7674\n",
            "Epoch 2/10\n",
            "366/366 [==============================] - 9s 25ms/step - loss: 0.5080 - categorical_accuracy: 0.7889 - val_loss: 0.5762 - val_categorical_accuracy: 0.7702\n",
            "Epoch 3/10\n",
            "366/366 [==============================] - 9s 25ms/step - loss: 0.4078 - categorical_accuracy: 0.8352 - val_loss: 0.5878 - val_categorical_accuracy: 0.7708\n",
            "Epoch 4/10\n",
            "366/366 [==============================] - 9s 25ms/step - loss: 0.3175 - categorical_accuracy: 0.8779 - val_loss: 0.6467 - val_categorical_accuracy: 0.7561\n",
            "Epoch 5/10\n",
            "366/366 [==============================] - 10s 26ms/step - loss: 0.2423 - categorical_accuracy: 0.9130 - val_loss: 0.7681 - val_categorical_accuracy: 0.7473\n",
            "Epoch 6/10\n",
            "366/366 [==============================] - 9s 26ms/step - loss: 0.1709 - categorical_accuracy: 0.9382 - val_loss: 0.8929 - val_categorical_accuracy: 0.7415\n",
            "Epoch 7/10\n",
            "366/366 [==============================] - 9s 25ms/step - loss: 0.1244 - categorical_accuracy: 0.9583 - val_loss: 1.0698 - val_categorical_accuracy: 0.7527\n",
            "Epoch 8/10\n",
            "366/366 [==============================] - 9s 26ms/step - loss: 0.0951 - categorical_accuracy: 0.9676 - val_loss: 1.2478 - val_categorical_accuracy: 0.7469\n",
            "Epoch 9/10\n",
            "366/366 [==============================] - 9s 25ms/step - loss: 0.0739 - categorical_accuracy: 0.9740 - val_loss: 1.3412 - val_categorical_accuracy: 0.7360\n",
            "Epoch 10/10\n",
            "366/366 [==============================] - 9s 25ms/step - loss: 0.0691 - categorical_accuracy: 0.9733 - val_loss: 1.5065 - val_categorical_accuracy: 0.7459\n"
          ],
          "name": "stdout"
        },
        {
          "output_type": "execute_result",
          "data": {
            "text/plain": [
              "<tensorflow.python.keras.callbacks.History at 0x7fc45974e518>"
            ]
          },
          "metadata": {
            "tags": []
          },
          "execution_count": 19
        }
      ]
    },
    {
      "cell_type": "code",
      "metadata": {
        "id": "xkkb0aJdoJkI",
        "outputId": "9c083b3d-179f-4fb2-ffec-fbfc9b8f64e4",
        "colab": {
          "base_uri": "https://localhost:8080/"
        }
      },
      "source": [
        "# Save model\r\n",
        "model1.save('Glove_10epochs_NN')"
      ],
      "execution_count": 20,
      "outputs": [
        {
          "output_type": "stream",
          "text": [
            "INFO:tensorflow:Assets written to: Glove_10epochs_NN/assets\n"
          ],
          "name": "stdout"
        }
      ]
    }
  ]
}