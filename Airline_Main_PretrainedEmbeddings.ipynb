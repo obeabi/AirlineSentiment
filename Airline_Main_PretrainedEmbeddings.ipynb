{
  "nbformat": 4,
  "nbformat_minor": 0,
  "metadata": {
    "colab": {
      "name": "Airline_Main_PretrainedEmbeddings.ipynb",
      "provenance": [],
      "toc_visible": true,
      "authorship_tag": "ABX9TyNeJxReOWDutUhKdH46DXWn",
      "include_colab_link": true
    },
    "kernelspec": {
      "name": "python3",
      "display_name": "Python 3"
    }
  },
  "cells": [
    {
      "cell_type": "markdown",
      "metadata": {
        "id": "view-in-github",
        "colab_type": "text"
      },
      "source": [
        "<a href=\"https://colab.research.google.com/github/obeabi/AirlineSentiment/blob/main/Airline_Main_PretrainedEmbeddings.ipynb\" target=\"_parent\"><img src=\"https://colab.research.google.com/assets/colab-badge.svg\" alt=\"Open In Colab\"/></a>"
      ]
    },
    {
      "cell_type": "markdown",
      "metadata": {
        "id": "DHkZZv900Tv4"
      },
      "source": [
        "# Airline Sentiment Dataset\r\n",
        "## Written by Abiola Obembe\r\n",
        "### Date: 2020-12-24\r\n",
        "\r\n",
        "### Goal: Train a classifiier to predict customer sentiment from customer review text (using pretrained word embedding)"
      ]
    },
    {
      "cell_type": "markdown",
      "metadata": {
        "id": "vGYcZsey2PfN"
      },
      "source": [
        ""
      ]
    }
  ]
}